{
 "cells": [
  {
   "cell_type": "markdown",
   "id": "61f91470",
   "metadata": {},
   "source": [
    "# Customer Churn Analysis\n"
   ]
  },
  {
   "cell_type": "markdown",
   "id": "275ca48a",
   "metadata": {},
   "source": [
    "Import required libraries and data frames\n",
    "\n",
    "4 data files were loaded into data frames.\n"
   ]
  },
  {
   "cell_type": "code",
   "execution_count": 1,
   "id": "f76aadb6",
   "metadata": {},
   "outputs": [
    {
     "data": {
      "text/html": [
       "<div>\n",
       "<style scoped>\n",
       "    .dataframe tbody tr th:only-of-type {\n",
       "        vertical-align: middle;\n",
       "    }\n",
       "\n",
       "    .dataframe tbody tr th {\n",
       "        vertical-align: top;\n",
       "    }\n",
       "\n",
       "    .dataframe thead th {\n",
       "        text-align: right;\n",
       "    }\n",
       "</style>\n",
       "<table border=\"1\" class=\"dataframe\">\n",
       "  <thead>\n",
       "    <tr style=\"text-align: right;\">\n",
       "      <th></th>\n",
       "      <th>RowNumber</th>\n",
       "      <th>CustomerId</th>\n",
       "      <th>Exited</th>\n",
       "    </tr>\n",
       "  </thead>\n",
       "  <tbody>\n",
       "    <tr>\n",
       "      <th>0</th>\n",
       "      <td>1</td>\n",
       "      <td>15634602.0</td>\n",
       "      <td>1.0</td>\n",
       "    </tr>\n",
       "    <tr>\n",
       "      <th>1</th>\n",
       "      <td>2</td>\n",
       "      <td>15647311.0</td>\n",
       "      <td>0.0</td>\n",
       "    </tr>\n",
       "    <tr>\n",
       "      <th>2</th>\n",
       "      <td>3</td>\n",
       "      <td>15619304.0</td>\n",
       "      <td>1.0</td>\n",
       "    </tr>\n",
       "    <tr>\n",
       "      <th>3</th>\n",
       "      <td>4</td>\n",
       "      <td>15701354.0</td>\n",
       "      <td>0.0</td>\n",
       "    </tr>\n",
       "    <tr>\n",
       "      <th>4</th>\n",
       "      <td>5</td>\n",
       "      <td>15737888.0</td>\n",
       "      <td>0.0</td>\n",
       "    </tr>\n",
       "  </tbody>\n",
       "</table>\n",
       "</div>"
      ],
      "text/plain": [
       "   RowNumber  CustomerId  Exited\n",
       "0          1  15634602.0     1.0\n",
       "1          2  15647311.0     0.0\n",
       "2          3  15619304.0     1.0\n",
       "3          4  15701354.0     0.0\n",
       "4          5  15737888.0     0.0"
      ]
     },
     "execution_count": 1,
     "metadata": {},
     "output_type": "execute_result"
    }
   ],
   "source": [
    "# Import Libraries\n",
    "import pandas as pd\n",
    "import numpy as np\n",
    "import seaborn as sns\n",
    "import matplotlib.pyplot as plt\n",
    "import warnings\n",
    "warnings.filterwarnings(\"ignore\")\n",
    "\n",
    "#Customer Attrition Status - Load into data frame\n",
    "cust_attr_df = pd.read_csv(\"Customer Attrition Status.csv\")\n",
    "cust_attr_df.head()"
   ]
  },
  {
   "cell_type": "code",
   "execution_count": 2,
   "id": "ec1d83f7",
   "metadata": {},
   "outputs": [
    {
     "name": "stdout",
     "output_type": "stream",
     "text": [
      "<class 'pandas.core.frame.DataFrame'>\n",
      "RangeIndex: 10019 entries, 0 to 10018\n",
      "Data columns (total 3 columns):\n",
      " #   Column      Non-Null Count  Dtype  \n",
      "---  ------      --------------  -----  \n",
      " 0   RowNumber   10019 non-null  int64  \n",
      " 1   CustomerId  10000 non-null  float64\n",
      " 2   Exited      10000 non-null  float64\n",
      "dtypes: float64(2), int64(1)\n",
      "memory usage: 234.9 KB\n"
     ]
    }
   ],
   "source": [
    "cust_attr_df.info()"
   ]
  },
  {
   "cell_type": "code",
   "execution_count": 3,
   "id": "e1fed55b",
   "metadata": {},
   "outputs": [
    {
     "data": {
      "text/html": [
       "<div>\n",
       "<style scoped>\n",
       "    .dataframe tbody tr th:only-of-type {\n",
       "        vertical-align: middle;\n",
       "    }\n",
       "\n",
       "    .dataframe tbody tr th {\n",
       "        vertical-align: top;\n",
       "    }\n",
       "\n",
       "    .dataframe thead th {\n",
       "        text-align: right;\n",
       "    }\n",
       "</style>\n",
       "<table border=\"1\" class=\"dataframe\">\n",
       "  <thead>\n",
       "    <tr style=\"text-align: right;\">\n",
       "      <th></th>\n",
       "      <th>RowNumber</th>\n",
       "      <th>CustomerId</th>\n",
       "    </tr>\n",
       "    <tr>\n",
       "      <th>Exited</th>\n",
       "      <th></th>\n",
       "      <th></th>\n",
       "    </tr>\n",
       "  </thead>\n",
       "  <tbody>\n",
       "    <tr>\n",
       "      <th>0.0</th>\n",
       "      <td>7963</td>\n",
       "      <td>7963</td>\n",
       "    </tr>\n",
       "    <tr>\n",
       "      <th>1.0</th>\n",
       "      <td>2037</td>\n",
       "      <td>2037</td>\n",
       "    </tr>\n",
       "  </tbody>\n",
       "</table>\n",
       "</div>"
      ],
      "text/plain": [
       "        RowNumber  CustomerId\n",
       "Exited                       \n",
       "0.0          7963        7963\n",
       "1.0          2037        2037"
      ]
     },
     "execution_count": 3,
     "metadata": {},
     "output_type": "execute_result"
    }
   ],
   "source": [
    "cust_attr_df.groupby(\"Exited\").count()"
   ]
  },
  {
   "cell_type": "code",
   "execution_count": 4,
   "id": "d337782e",
   "metadata": {},
   "outputs": [],
   "source": [
    "#cust_attr_df1 = cust_attr_df.groupby(\"CustomerId\")\n",
    "#cust_attr_df1.sum()"
   ]
  },
  {
   "cell_type": "code",
   "execution_count": 5,
   "id": "4f42ec44",
   "metadata": {},
   "outputs": [
    {
     "data": {
      "text/plain": [
       "RowNumber     False\n",
       "CustomerId     True\n",
       "Exited         True\n",
       "dtype: bool"
      ]
     },
     "execution_count": 5,
     "metadata": {},
     "output_type": "execute_result"
    }
   ],
   "source": [
    "#Check NA's\n",
    "cust_attr_df.isna().any()"
   ]
  },
  {
   "cell_type": "code",
   "execution_count": 6,
   "id": "2f57b465",
   "metadata": {},
   "outputs": [
    {
     "data": {
      "text/plain": [
       "RowNumber      0\n",
       "CustomerId    19\n",
       "Exited        19\n",
       "dtype: int64"
      ]
     },
     "execution_count": 6,
     "metadata": {},
     "output_type": "execute_result"
    }
   ],
   "source": [
    "#Check Null values count\n",
    "cust_attr_df.isnull().sum()"
   ]
  },
  {
   "cell_type": "code",
   "execution_count": 7,
   "id": "a3ed8004",
   "metadata": {},
   "outputs": [],
   "source": [
    "#sns.displot(cust_attr_df, x=\"CustomerId\", col=\"Exited\")"
   ]
  },
  {
   "cell_type": "markdown",
   "id": "a298378e",
   "metadata": {},
   "source": [
    "Verify the customer attrition status overall count and check for any duplicate values"
   ]
  },
  {
   "cell_type": "code",
   "execution_count": 8,
   "id": "0cb2b3b3",
   "metadata": {},
   "outputs": [
    {
     "data": {
      "text/plain": [
       "RowNumber     10019\n",
       "CustomerId    10000\n",
       "Exited        10000\n",
       "dtype: int64"
      ]
     },
     "execution_count": 8,
     "metadata": {},
     "output_type": "execute_result"
    }
   ],
   "source": [
    "cust_attr_df.count()"
   ]
  },
  {
   "cell_type": "markdown",
   "id": "9b66ed57",
   "metadata": {},
   "source": [
    "Unique values, Drop NA's and Remove any Duplicates"
   ]
  },
  {
   "cell_type": "code",
   "execution_count": 9,
   "id": "68e27d23",
   "metadata": {},
   "outputs": [
    {
     "data": {
      "text/plain": [
       "2"
      ]
     },
     "execution_count": 9,
     "metadata": {},
     "output_type": "execute_result"
    }
   ],
   "source": [
    "cust_attr_df[\"Exited\"].nunique()"
   ]
  },
  {
   "cell_type": "code",
   "execution_count": 10,
   "id": "51754eb2",
   "metadata": {},
   "outputs": [
    {
     "data": {
      "text/plain": [
       "array([ 1.,  0., nan])"
      ]
     },
     "execution_count": 10,
     "metadata": {},
     "output_type": "execute_result"
    }
   ],
   "source": [
    "cust_attr_df[\"Exited\"].unique()"
   ]
  },
  {
   "cell_type": "code",
   "execution_count": 11,
   "id": "b97b0069",
   "metadata": {},
   "outputs": [
    {
     "data": {
      "text/plain": [
       "0.0    7963\n",
       "1.0    2037\n",
       "Name: Exited, dtype: int64"
      ]
     },
     "execution_count": 11,
     "metadata": {},
     "output_type": "execute_result"
    }
   ],
   "source": [
    "cust_attr_df[\"Exited\"].value_counts()"
   ]
  },
  {
   "cell_type": "code",
   "execution_count": 12,
   "id": "ffa53593",
   "metadata": {},
   "outputs": [],
   "source": [
    "cust_attr_df.dropna(inplace = True)"
   ]
  },
  {
   "cell_type": "code",
   "execution_count": 13,
   "id": "8f67607f",
   "metadata": {},
   "outputs": [
    {
     "data": {
      "text/plain": [
       "RowNumber     10000\n",
       "CustomerId    10000\n",
       "Exited        10000\n",
       "dtype: int64"
      ]
     },
     "execution_count": 13,
     "metadata": {},
     "output_type": "execute_result"
    }
   ],
   "source": [
    "cust_attr_df.count()"
   ]
  },
  {
   "cell_type": "code",
   "execution_count": 14,
   "id": "c5451d7e",
   "metadata": {},
   "outputs": [
    {
     "data": {
      "text/html": [
       "<div>\n",
       "<style scoped>\n",
       "    .dataframe tbody tr th:only-of-type {\n",
       "        vertical-align: middle;\n",
       "    }\n",
       "\n",
       "    .dataframe tbody tr th {\n",
       "        vertical-align: top;\n",
       "    }\n",
       "\n",
       "    .dataframe thead th {\n",
       "        text-align: right;\n",
       "    }\n",
       "</style>\n",
       "<table border=\"1\" class=\"dataframe\">\n",
       "  <thead>\n",
       "    <tr style=\"text-align: right;\">\n",
       "      <th></th>\n",
       "      <th>RowNumber</th>\n",
       "      <th>CustomerId</th>\n",
       "      <th>Exited</th>\n",
       "    </tr>\n",
       "  </thead>\n",
       "  <tbody>\n",
       "    <tr>\n",
       "      <th>0</th>\n",
       "      <td>1</td>\n",
       "      <td>15634602.0</td>\n",
       "      <td>1.0</td>\n",
       "    </tr>\n",
       "    <tr>\n",
       "      <th>1</th>\n",
       "      <td>2</td>\n",
       "      <td>15647311.0</td>\n",
       "      <td>0.0</td>\n",
       "    </tr>\n",
       "    <tr>\n",
       "      <th>2</th>\n",
       "      <td>3</td>\n",
       "      <td>15619304.0</td>\n",
       "      <td>1.0</td>\n",
       "    </tr>\n",
       "    <tr>\n",
       "      <th>3</th>\n",
       "      <td>4</td>\n",
       "      <td>15701354.0</td>\n",
       "      <td>0.0</td>\n",
       "    </tr>\n",
       "    <tr>\n",
       "      <th>4</th>\n",
       "      <td>5</td>\n",
       "      <td>15737888.0</td>\n",
       "      <td>0.0</td>\n",
       "    </tr>\n",
       "    <tr>\n",
       "      <th>...</th>\n",
       "      <td>...</td>\n",
       "      <td>...</td>\n",
       "      <td>...</td>\n",
       "    </tr>\n",
       "    <tr>\n",
       "      <th>9995</th>\n",
       "      <td>9996</td>\n",
       "      <td>15606229.0</td>\n",
       "      <td>0.0</td>\n",
       "    </tr>\n",
       "    <tr>\n",
       "      <th>9996</th>\n",
       "      <td>9997</td>\n",
       "      <td>15569892.0</td>\n",
       "      <td>0.0</td>\n",
       "    </tr>\n",
       "    <tr>\n",
       "      <th>9997</th>\n",
       "      <td>9998</td>\n",
       "      <td>15584532.0</td>\n",
       "      <td>1.0</td>\n",
       "    </tr>\n",
       "    <tr>\n",
       "      <th>9998</th>\n",
       "      <td>9999</td>\n",
       "      <td>15682355.0</td>\n",
       "      <td>1.0</td>\n",
       "    </tr>\n",
       "    <tr>\n",
       "      <th>9999</th>\n",
       "      <td>10000</td>\n",
       "      <td>15628319.0</td>\n",
       "      <td>0.0</td>\n",
       "    </tr>\n",
       "  </tbody>\n",
       "</table>\n",
       "<p>10000 rows × 3 columns</p>\n",
       "</div>"
      ],
      "text/plain": [
       "      RowNumber  CustomerId  Exited\n",
       "0             1  15634602.0     1.0\n",
       "1             2  15647311.0     0.0\n",
       "2             3  15619304.0     1.0\n",
       "3             4  15701354.0     0.0\n",
       "4             5  15737888.0     0.0\n",
       "...         ...         ...     ...\n",
       "9995       9996  15606229.0     0.0\n",
       "9996       9997  15569892.0     0.0\n",
       "9997       9998  15584532.0     1.0\n",
       "9998       9999  15682355.0     1.0\n",
       "9999      10000  15628319.0     0.0\n",
       "\n",
       "[10000 rows x 3 columns]"
      ]
     },
     "execution_count": 14,
     "metadata": {},
     "output_type": "execute_result"
    }
   ],
   "source": [
    "cust_attr_df.drop_duplicates()"
   ]
  },
  {
   "cell_type": "code",
   "execution_count": 15,
   "id": "9ea12f88",
   "metadata": {},
   "outputs": [
    {
     "data": {
      "text/plain": [
       "10000"
      ]
     },
     "execution_count": 15,
     "metadata": {},
     "output_type": "execute_result"
    }
   ],
   "source": [
    "cust_attr_df.duplicated().count()"
   ]
  },
  {
   "cell_type": "code",
   "execution_count": 16,
   "id": "102c194b",
   "metadata": {},
   "outputs": [
    {
     "data": {
      "text/html": [
       "<div>\n",
       "<style scoped>\n",
       "    .dataframe tbody tr th:only-of-type {\n",
       "        vertical-align: middle;\n",
       "    }\n",
       "\n",
       "    .dataframe tbody tr th {\n",
       "        vertical-align: top;\n",
       "    }\n",
       "\n",
       "    .dataframe thead th {\n",
       "        text-align: right;\n",
       "    }\n",
       "</style>\n",
       "<table border=\"1\" class=\"dataframe\">\n",
       "  <thead>\n",
       "    <tr style=\"text-align: right;\">\n",
       "      <th></th>\n",
       "      <th>RowNumber</th>\n",
       "      <th>CustomerId</th>\n",
       "      <th>Surname</th>\n",
       "      <th>Geography</th>\n",
       "      <th>Gender</th>\n",
       "      <th>Age</th>\n",
       "    </tr>\n",
       "  </thead>\n",
       "  <tbody>\n",
       "    <tr>\n",
       "      <th>0</th>\n",
       "      <td>1</td>\n",
       "      <td>15634602.0</td>\n",
       "      <td>Hargrave</td>\n",
       "      <td>West</td>\n",
       "      <td>Female</td>\n",
       "      <td>42.0</td>\n",
       "    </tr>\n",
       "    <tr>\n",
       "      <th>1</th>\n",
       "      <td>2</td>\n",
       "      <td>15647311.0</td>\n",
       "      <td>Hill</td>\n",
       "      <td>Central</td>\n",
       "      <td>Female</td>\n",
       "      <td>41.0</td>\n",
       "    </tr>\n",
       "    <tr>\n",
       "      <th>2</th>\n",
       "      <td>3</td>\n",
       "      <td>15619304.0</td>\n",
       "      <td>Onio</td>\n",
       "      <td>West</td>\n",
       "      <td>Female</td>\n",
       "      <td>42.0</td>\n",
       "    </tr>\n",
       "    <tr>\n",
       "      <th>3</th>\n",
       "      <td>4</td>\n",
       "      <td>15701354.0</td>\n",
       "      <td>Boni</td>\n",
       "      <td>West</td>\n",
       "      <td>Female</td>\n",
       "      <td>39.0</td>\n",
       "    </tr>\n",
       "    <tr>\n",
       "      <th>4</th>\n",
       "      <td>5</td>\n",
       "      <td>15737888.0</td>\n",
       "      <td>Mitchell</td>\n",
       "      <td>Central</td>\n",
       "      <td>Female</td>\n",
       "      <td>43.0</td>\n",
       "    </tr>\n",
       "  </tbody>\n",
       "</table>\n",
       "</div>"
      ],
      "text/plain": [
       "   RowNumber  CustomerId   Surname Geography  Gender   Age\n",
       "0          1  15634602.0  Hargrave      West  Female  42.0\n",
       "1          2  15647311.0      Hill   Central  Female  41.0\n",
       "2          3  15619304.0      Onio      West  Female  42.0\n",
       "3          4  15701354.0      Boni      West  Female  39.0\n",
       "4          5  15737888.0  Mitchell   Central  Female  43.0"
      ]
     },
     "execution_count": 16,
     "metadata": {},
     "output_type": "execute_result"
    }
   ],
   "source": [
    "#Customer Demographics - Load into data frame\n",
    "cust_demo_df = pd.read_csv(\"Customer Demographics.csv\")\n",
    "cust_demo_df.head()\n",
    "\n",
    "#cust_demo_df.isnull().sum()"
   ]
  },
  {
   "cell_type": "code",
   "execution_count": 17,
   "id": "a506706e",
   "metadata": {},
   "outputs": [
    {
     "name": "stdout",
     "output_type": "stream",
     "text": [
      "<class 'pandas.core.frame.DataFrame'>\n",
      "RangeIndex: 10019 entries, 0 to 10018\n",
      "Data columns (total 6 columns):\n",
      " #   Column      Non-Null Count  Dtype  \n",
      "---  ------      --------------  -----  \n",
      " 0   RowNumber   10019 non-null  int64  \n",
      " 1   CustomerId  10000 non-null  float64\n",
      " 2   Surname     10000 non-null  object \n",
      " 3   Geography   10000 non-null  object \n",
      " 4   Gender      10000 non-null  object \n",
      " 5   Age         10000 non-null  float64\n",
      "dtypes: float64(2), int64(1), object(3)\n",
      "memory usage: 469.8+ KB\n"
     ]
    }
   ],
   "source": [
    "cust_demo_df.info()"
   ]
  },
  {
   "cell_type": "markdown",
   "id": "43264c32",
   "metadata": {},
   "source": [
    "Verify the customer Demograpics overall count and check for any duplicate values"
   ]
  },
  {
   "cell_type": "code",
   "execution_count": 18,
   "id": "02e54a3a",
   "metadata": {},
   "outputs": [
    {
     "data": {
      "text/plain": [
       "RowNumber     10019\n",
       "CustomerId    10000\n",
       "Surname       10000\n",
       "Geography     10000\n",
       "Gender        10000\n",
       "Age           10000\n",
       "dtype: int64"
      ]
     },
     "execution_count": 18,
     "metadata": {},
     "output_type": "execute_result"
    }
   ],
   "source": [
    "cust_demo_df.count()"
   ]
  },
  {
   "cell_type": "code",
   "execution_count": 19,
   "id": "b03b1576",
   "metadata": {},
   "outputs": [
    {
     "data": {
      "text/plain": [
       "RowNumber     False\n",
       "CustomerId     True\n",
       "Surname        True\n",
       "Geography      True\n",
       "Gender         True\n",
       "Age            True\n",
       "dtype: bool"
      ]
     },
     "execution_count": 19,
     "metadata": {},
     "output_type": "execute_result"
    }
   ],
   "source": [
    "cust_demo_df.isna().any()"
   ]
  },
  {
   "cell_type": "code",
   "execution_count": 20,
   "id": "2c37461b",
   "metadata": {},
   "outputs": [
    {
     "data": {
      "text/plain": [
       "RowNumber     10000\n",
       "CustomerId    10000\n",
       "Surname       10000\n",
       "Geography     10000\n",
       "Gender        10000\n",
       "Age           10000\n",
       "dtype: int64"
      ]
     },
     "execution_count": 20,
     "metadata": {},
     "output_type": "execute_result"
    }
   ],
   "source": [
    "cust_demo_df.dropna(inplace = True)\n",
    "cust_demo_df.count()"
   ]
  },
  {
   "cell_type": "code",
   "execution_count": 21,
   "id": "90f474de",
   "metadata": {},
   "outputs": [
    {
     "data": {
      "text/html": [
       "<div>\n",
       "<style scoped>\n",
       "    .dataframe tbody tr th:only-of-type {\n",
       "        vertical-align: middle;\n",
       "    }\n",
       "\n",
       "    .dataframe tbody tr th {\n",
       "        vertical-align: top;\n",
       "    }\n",
       "\n",
       "    .dataframe thead th {\n",
       "        text-align: right;\n",
       "    }\n",
       "</style>\n",
       "<table border=\"1\" class=\"dataframe\">\n",
       "  <thead>\n",
       "    <tr style=\"text-align: right;\">\n",
       "      <th></th>\n",
       "      <th>RowNumber</th>\n",
       "      <th>CustomerId</th>\n",
       "      <th>Surname</th>\n",
       "      <th>Geography</th>\n",
       "      <th>Gender</th>\n",
       "      <th>Age</th>\n",
       "    </tr>\n",
       "  </thead>\n",
       "  <tbody>\n",
       "    <tr>\n",
       "      <th>0</th>\n",
       "      <td>1</td>\n",
       "      <td>15634602.0</td>\n",
       "      <td>Hargrave</td>\n",
       "      <td>West</td>\n",
       "      <td>Female</td>\n",
       "      <td>42.0</td>\n",
       "    </tr>\n",
       "    <tr>\n",
       "      <th>1</th>\n",
       "      <td>2</td>\n",
       "      <td>15647311.0</td>\n",
       "      <td>Hill</td>\n",
       "      <td>Central</td>\n",
       "      <td>Female</td>\n",
       "      <td>41.0</td>\n",
       "    </tr>\n",
       "    <tr>\n",
       "      <th>2</th>\n",
       "      <td>3</td>\n",
       "      <td>15619304.0</td>\n",
       "      <td>Onio</td>\n",
       "      <td>West</td>\n",
       "      <td>Female</td>\n",
       "      <td>42.0</td>\n",
       "    </tr>\n",
       "    <tr>\n",
       "      <th>3</th>\n",
       "      <td>4</td>\n",
       "      <td>15701354.0</td>\n",
       "      <td>Boni</td>\n",
       "      <td>West</td>\n",
       "      <td>Female</td>\n",
       "      <td>39.0</td>\n",
       "    </tr>\n",
       "    <tr>\n",
       "      <th>4</th>\n",
       "      <td>5</td>\n",
       "      <td>15737888.0</td>\n",
       "      <td>Mitchell</td>\n",
       "      <td>Central</td>\n",
       "      <td>Female</td>\n",
       "      <td>43.0</td>\n",
       "    </tr>\n",
       "    <tr>\n",
       "      <th>...</th>\n",
       "      <td>...</td>\n",
       "      <td>...</td>\n",
       "      <td>...</td>\n",
       "      <td>...</td>\n",
       "      <td>...</td>\n",
       "      <td>...</td>\n",
       "    </tr>\n",
       "    <tr>\n",
       "      <th>9995</th>\n",
       "      <td>9996</td>\n",
       "      <td>15606229.0</td>\n",
       "      <td>Obijiaku</td>\n",
       "      <td>West</td>\n",
       "      <td>Male</td>\n",
       "      <td>39.0</td>\n",
       "    </tr>\n",
       "    <tr>\n",
       "      <th>9996</th>\n",
       "      <td>9997</td>\n",
       "      <td>15569892.0</td>\n",
       "      <td>Johnstone</td>\n",
       "      <td>West</td>\n",
       "      <td>Male</td>\n",
       "      <td>35.0</td>\n",
       "    </tr>\n",
       "    <tr>\n",
       "      <th>9997</th>\n",
       "      <td>9998</td>\n",
       "      <td>15584532.0</td>\n",
       "      <td>Liu</td>\n",
       "      <td>West</td>\n",
       "      <td>Female</td>\n",
       "      <td>36.0</td>\n",
       "    </tr>\n",
       "    <tr>\n",
       "      <th>9998</th>\n",
       "      <td>9999</td>\n",
       "      <td>15682355.0</td>\n",
       "      <td>Sabbatini</td>\n",
       "      <td>East</td>\n",
       "      <td>Male</td>\n",
       "      <td>42.0</td>\n",
       "    </tr>\n",
       "    <tr>\n",
       "      <th>9999</th>\n",
       "      <td>10000</td>\n",
       "      <td>15628319.0</td>\n",
       "      <td>Walker</td>\n",
       "      <td>West</td>\n",
       "      <td>Female</td>\n",
       "      <td>28.0</td>\n",
       "    </tr>\n",
       "  </tbody>\n",
       "</table>\n",
       "<p>10000 rows × 6 columns</p>\n",
       "</div>"
      ],
      "text/plain": [
       "      RowNumber  CustomerId    Surname Geography  Gender   Age\n",
       "0             1  15634602.0   Hargrave      West  Female  42.0\n",
       "1             2  15647311.0       Hill   Central  Female  41.0\n",
       "2             3  15619304.0       Onio      West  Female  42.0\n",
       "3             4  15701354.0       Boni      West  Female  39.0\n",
       "4             5  15737888.0   Mitchell   Central  Female  43.0\n",
       "...         ...         ...        ...       ...     ...   ...\n",
       "9995       9996  15606229.0   Obijiaku      West    Male  39.0\n",
       "9996       9997  15569892.0  Johnstone      West    Male  35.0\n",
       "9997       9998  15584532.0        Liu      West  Female  36.0\n",
       "9998       9999  15682355.0  Sabbatini      East    Male  42.0\n",
       "9999      10000  15628319.0     Walker      West  Female  28.0\n",
       "\n",
       "[10000 rows x 6 columns]"
      ]
     },
     "execution_count": 21,
     "metadata": {},
     "output_type": "execute_result"
    }
   ],
   "source": [
    "cust_demo_df.drop_duplicates()"
   ]
  },
  {
   "cell_type": "code",
   "execution_count": 22,
   "id": "e38b952d",
   "metadata": {},
   "outputs": [
    {
     "data": {
      "text/plain": [
       "<seaborn.axisgrid.FacetGrid at 0x14d48377880>"
      ]
     },
     "execution_count": 22,
     "metadata": {},
     "output_type": "execute_result"
    },
    {
     "data": {
      "image/png": "[encoded data removed]",
      "text/plain": [
       "<Figure size 1080x360 with 3 Axes>"
      ]
     },
     "metadata": {
      "needs_background": "light"
     },
     "output_type": "display_data"
    }
   ],
   "source": [
    "sns.displot(cust_demo_df, x=\"Age\", col=\"Gender\")\n",
    "#cust_demo_df1 = cust_demo_df.groupby(\"CustomerId\")\n",
    "#cust_demo_df1.sum()"
   ]
  },
  {
   "cell_type": "code",
   "execution_count": 23,
   "id": "e486a825",
   "metadata": {},
   "outputs": [
    {
     "data": {
      "text/plain": [
       "0       False\n",
       "1       False\n",
       "2       False\n",
       "3       False\n",
       "4       False\n",
       "        ...  \n",
       "9995    False\n",
       "9996    False\n",
       "9997    False\n",
       "9998    False\n",
       "9999    False\n",
       "Length: 10000, dtype: bool"
      ]
     },
     "execution_count": 23,
     "metadata": {},
     "output_type": "execute_result"
    }
   ],
   "source": [
    "cust_attr_df.duplicated()"
   ]
  },
  {
   "cell_type": "code",
   "execution_count": 24,
   "id": "09783993",
   "metadata": {},
   "outputs": [
    {
     "data": {
      "text/plain": [
       "array(['Female', 'Male', 'Neutral'], dtype=object)"
      ]
     },
     "execution_count": 24,
     "metadata": {},
     "output_type": "execute_result"
    }
   ],
   "source": [
    "# Categorical Varibles \n",
    "cust_demo_df[\"Gender\"].nunique()\n",
    "cust_demo_df[\"Gender\"].unique()"
   ]
  },
  {
   "cell_type": "code",
   "execution_count": 25,
   "id": "cf7da559",
   "metadata": {},
   "outputs": [
    {
     "data": {
      "text/plain": [
       "Male       5453\n",
       "Female     4539\n",
       "Neutral       8\n",
       "Name: Gender, dtype: int64"
      ]
     },
     "execution_count": 25,
     "metadata": {},
     "output_type": "execute_result"
    }
   ],
   "source": [
    "cust_demo_df[\"Gender\"].value_counts()"
   ]
  },
  {
   "cell_type": "code",
   "execution_count": 26,
   "id": "5d85d301",
   "metadata": {},
   "outputs": [
    {
     "data": {
      "text/plain": [
       "RowNumber     0\n",
       "CustomerId    0\n",
       "Surname       0\n",
       "Geography     0\n",
       "Gender        0\n",
       "Age           0\n",
       "dtype: int64"
      ]
     },
     "execution_count": 26,
     "metadata": {},
     "output_type": "execute_result"
    }
   ],
   "source": [
    "cust_demo_df.isnull().sum()"
   ]
  },
  {
   "cell_type": "code",
   "execution_count": 27,
   "id": "efa3c5c3",
   "metadata": {},
   "outputs": [
    {
     "data": {
      "text/plain": [
       "RowNumber             0\n",
       "CustomerId           19\n",
       "Tenure               19\n",
       "CreditScore          22\n",
       "Balance            3636\n",
       "EstimatedSalary      19\n",
       "dtype: int64"
      ]
     },
     "execution_count": 27,
     "metadata": {},
     "output_type": "execute_result"
    }
   ],
   "source": [
    "#Customer Investment Snapshot - Load into the data frame\n",
    "cust_inv_df = pd.read_csv(\"Customer Investment Snapshot.csv\")\n",
    "cust_inv_df.head()\n",
    "\n",
    "cust_inv_df.isnull().sum()"
   ]
  },
  {
   "cell_type": "code",
   "execution_count": 28,
   "id": "4981421a",
   "metadata": {},
   "outputs": [
    {
     "name": "stdout",
     "output_type": "stream",
     "text": [
      "<class 'pandas.core.frame.DataFrame'>\n",
      "RangeIndex: 10019 entries, 0 to 10018\n",
      "Data columns (total 6 columns):\n",
      " #   Column           Non-Null Count  Dtype  \n",
      "---  ------           --------------  -----  \n",
      " 0   RowNumber        10019 non-null  int64  \n",
      " 1   CustomerId       10000 non-null  float64\n",
      " 2   Tenure           10000 non-null  float64\n",
      " 3   CreditScore      9997 non-null   float64\n",
      " 4   Balance          6383 non-null   float64\n",
      " 5   EstimatedSalary  10000 non-null  float64\n",
      "dtypes: float64(5), int64(1)\n",
      "memory usage: 469.8 KB\n"
     ]
    }
   ],
   "source": [
    "cust_inv_df.info()"
   ]
  },
  {
   "cell_type": "code",
   "execution_count": 29,
   "id": "35cdb492",
   "metadata": {},
   "outputs": [
    {
     "data": {
      "text/plain": [
       "RowNumber          10019\n",
       "CustomerId         10000\n",
       "Tenure             10000\n",
       "CreditScore         9997\n",
       "Balance             6383\n",
       "EstimatedSalary    10000\n",
       "dtype: int64"
      ]
     },
     "execution_count": 29,
     "metadata": {},
     "output_type": "execute_result"
    }
   ],
   "source": [
    "cust_inv_df.count()"
   ]
  },
  {
   "cell_type": "code",
   "execution_count": 30,
   "id": "052c9836",
   "metadata": {},
   "outputs": [
    {
     "data": {
      "text/plain": [
       "RowNumber          False\n",
       "CustomerId          True\n",
       "Tenure              True\n",
       "CreditScore         True\n",
       "Balance             True\n",
       "EstimatedSalary     True\n",
       "dtype: bool"
      ]
     },
     "execution_count": 30,
     "metadata": {},
     "output_type": "execute_result"
    }
   ],
   "source": [
    "cust_inv_df.isna().any()"
   ]
  },
  {
   "cell_type": "code",
   "execution_count": 31,
   "id": "9939212f",
   "metadata": {},
   "outputs": [
    {
     "data": {
      "text/plain": [
       "array([ 2.,  1.,  8.,  7., 30.,  4.,  6.,  3., 10.,  5.,  9.,  0., nan])"
      ]
     },
     "execution_count": 31,
     "metadata": {},
     "output_type": "execute_result"
    }
   ],
   "source": [
    "#Categorical Variables - Not required\n",
    "cust_inv_df[\"Tenure\"].nunique()\n",
    "cust_inv_df[\"Tenure\"].unique()"
   ]
  },
  {
   "cell_type": "code",
   "execution_count": 32,
   "id": "f4974d3c",
   "metadata": {},
   "outputs": [
    {
     "data": {
      "text/plain": [
       "2.0     1048\n",
       "1.0     1035\n",
       "7.0     1028\n",
       "8.0     1025\n",
       "5.0     1012\n",
       "3.0     1009\n",
       "4.0      988\n",
       "9.0      984\n",
       "6.0      967\n",
       "10.0     490\n",
       "0.0      413\n",
       "30.0       1\n",
       "Name: Tenure, dtype: int64"
      ]
     },
     "execution_count": 32,
     "metadata": {},
     "output_type": "execute_result"
    }
   ],
   "source": [
    "cust_inv_df[\"Tenure\"].value_counts()"
   ]
  },
  {
   "cell_type": "code",
   "execution_count": 33,
   "id": "d2430539",
   "metadata": {
    "scrolled": true
   },
   "outputs": [
    {
     "data": {
      "text/plain": [
       "RowNumber             0\n",
       "CustomerId           19\n",
       "Tenure               19\n",
       "CreditScore          22\n",
       "Balance            3636\n",
       "EstimatedSalary      19\n",
       "dtype: int64"
      ]
     },
     "execution_count": 33,
     "metadata": {},
     "output_type": "execute_result"
    }
   ],
   "source": [
    "cust_inv_df.isnull().sum()"
   ]
  },
  {
   "cell_type": "code",
   "execution_count": 34,
   "id": "146b99b7",
   "metadata": {},
   "outputs": [
    {
     "data": {
      "text/html": [
       "<div>\n",
       "<style scoped>\n",
       "    .dataframe tbody tr th:only-of-type {\n",
       "        vertical-align: middle;\n",
       "    }\n",
       "\n",
       "    .dataframe tbody tr th {\n",
       "        vertical-align: top;\n",
       "    }\n",
       "\n",
       "    .dataframe thead th {\n",
       "        text-align: right;\n",
       "    }\n",
       "</style>\n",
       "<table border=\"1\" class=\"dataframe\">\n",
       "  <thead>\n",
       "    <tr style=\"text-align: right;\">\n",
       "      <th></th>\n",
       "      <th>RowNumber</th>\n",
       "      <th>CustomerId</th>\n",
       "      <th>Tenure</th>\n",
       "      <th>CreditScore</th>\n",
       "      <th>Balance</th>\n",
       "      <th>EstimatedSalary</th>\n",
       "    </tr>\n",
       "  </thead>\n",
       "  <tbody>\n",
       "    <tr>\n",
       "      <th>RowNumber</th>\n",
       "      <td>1.000000</td>\n",
       "      <td>0.004202</td>\n",
       "      <td>-0.008020</td>\n",
       "      <td>0.006332</td>\n",
       "      <td>-0.004741</td>\n",
       "      <td>-0.005988</td>\n",
       "    </tr>\n",
       "    <tr>\n",
       "      <th>CustomerId</th>\n",
       "      <td>0.004202</td>\n",
       "      <td>1.000000</td>\n",
       "      <td>-0.015261</td>\n",
       "      <td>0.005658</td>\n",
       "      <td>-0.008690</td>\n",
       "      <td>0.015271</td>\n",
       "    </tr>\n",
       "    <tr>\n",
       "      <th>Tenure</th>\n",
       "      <td>-0.008020</td>\n",
       "      <td>-0.015261</td>\n",
       "      <td>1.000000</td>\n",
       "      <td>-0.001960</td>\n",
       "      <td>0.005572</td>\n",
       "      <td>0.008055</td>\n",
       "    </tr>\n",
       "    <tr>\n",
       "      <th>CreditScore</th>\n",
       "      <td>0.006332</td>\n",
       "      <td>0.005658</td>\n",
       "      <td>-0.001960</td>\n",
       "      <td>1.000000</td>\n",
       "      <td>-0.003884</td>\n",
       "      <td>-0.002197</td>\n",
       "    </tr>\n",
       "    <tr>\n",
       "      <th>Balance</th>\n",
       "      <td>-0.004741</td>\n",
       "      <td>-0.008690</td>\n",
       "      <td>0.005572</td>\n",
       "      <td>-0.003884</td>\n",
       "      <td>1.000000</td>\n",
       "      <td>-0.001856</td>\n",
       "    </tr>\n",
       "    <tr>\n",
       "      <th>EstimatedSalary</th>\n",
       "      <td>-0.005988</td>\n",
       "      <td>0.015271</td>\n",
       "      <td>0.008055</td>\n",
       "      <td>-0.002197</td>\n",
       "      <td>-0.001856</td>\n",
       "      <td>1.000000</td>\n",
       "    </tr>\n",
       "  </tbody>\n",
       "</table>\n",
       "</div>"
      ],
      "text/plain": [
       "                 RowNumber  CustomerId    Tenure  CreditScore   Balance  \\\n",
       "RowNumber         1.000000    0.004202 -0.008020     0.006332 -0.004741   \n",
       "CustomerId        0.004202    1.000000 -0.015261     0.005658 -0.008690   \n",
       "Tenure           -0.008020   -0.015261  1.000000    -0.001960  0.005572   \n",
       "CreditScore       0.006332    0.005658 -0.001960     1.000000 -0.003884   \n",
       "Balance          -0.004741   -0.008690  0.005572    -0.003884  1.000000   \n",
       "EstimatedSalary  -0.005988    0.015271  0.008055    -0.002197 -0.001856   \n",
       "\n",
       "                 EstimatedSalary  \n",
       "RowNumber              -0.005988  \n",
       "CustomerId              0.015271  \n",
       "Tenure                  0.008055  \n",
       "CreditScore            -0.002197  \n",
       "Balance                -0.001856  \n",
       "EstimatedSalary         1.000000  "
      ]
     },
     "execution_count": 34,
     "metadata": {},
     "output_type": "execute_result"
    }
   ],
   "source": [
    "cust_inv_df.corr(method ='pearson')"
   ]
  },
  {
   "cell_type": "code",
   "execution_count": 35,
   "id": "074d07b7",
   "metadata": {},
   "outputs": [
    {
     "data": {
      "text/plain": [
       "(10019, 6)"
      ]
     },
     "execution_count": 35,
     "metadata": {},
     "output_type": "execute_result"
    }
   ],
   "source": [
    "cust_inv_df.shape\n"
   ]
  },
  {
   "cell_type": "code",
   "execution_count": 36,
   "id": "96734946",
   "metadata": {},
   "outputs": [
    {
     "data": {
      "text/html": [
       "<div>\n",
       "<style scoped>\n",
       "    .dataframe tbody tr th:only-of-type {\n",
       "        vertical-align: middle;\n",
       "    }\n",
       "\n",
       "    .dataframe tbody tr th {\n",
       "        vertical-align: top;\n",
       "    }\n",
       "\n",
       "    .dataframe thead th {\n",
       "        text-align: right;\n",
       "    }\n",
       "</style>\n",
       "<table border=\"1\" class=\"dataframe\">\n",
       "  <thead>\n",
       "    <tr style=\"text-align: right;\">\n",
       "      <th></th>\n",
       "      <th>RowNumber</th>\n",
       "      <th>CustomerId</th>\n",
       "      <th>Tenure</th>\n",
       "      <th>CreditScore</th>\n",
       "      <th>Balance</th>\n",
       "      <th>EstimatedSalary</th>\n",
       "    </tr>\n",
       "  </thead>\n",
       "  <tbody>\n",
       "    <tr>\n",
       "      <th>0</th>\n",
       "      <td>1</td>\n",
       "      <td>15634602.0</td>\n",
       "      <td>2.0</td>\n",
       "      <td>619.0</td>\n",
       "      <td>NaN</td>\n",
       "      <td>101348.88</td>\n",
       "    </tr>\n",
       "    <tr>\n",
       "      <th>1</th>\n",
       "      <td>2</td>\n",
       "      <td>15647311.0</td>\n",
       "      <td>1.0</td>\n",
       "      <td>608.0</td>\n",
       "      <td>83807.86</td>\n",
       "      <td>112542.58</td>\n",
       "    </tr>\n",
       "    <tr>\n",
       "      <th>2</th>\n",
       "      <td>3</td>\n",
       "      <td>15619304.0</td>\n",
       "      <td>8.0</td>\n",
       "      <td>502.0</td>\n",
       "      <td>159660.80</td>\n",
       "      <td>113931.57</td>\n",
       "    </tr>\n",
       "    <tr>\n",
       "      <th>3</th>\n",
       "      <td>4</td>\n",
       "      <td>15701354.0</td>\n",
       "      <td>1.0</td>\n",
       "      <td>699.0</td>\n",
       "      <td>NaN</td>\n",
       "      <td>93826.63</td>\n",
       "    </tr>\n",
       "    <tr>\n",
       "      <th>4</th>\n",
       "      <td>5</td>\n",
       "      <td>15737888.0</td>\n",
       "      <td>2.0</td>\n",
       "      <td>850.0</td>\n",
       "      <td>125510.82</td>\n",
       "      <td>79084.10</td>\n",
       "    </tr>\n",
       "    <tr>\n",
       "      <th>...</th>\n",
       "      <td>...</td>\n",
       "      <td>...</td>\n",
       "      <td>...</td>\n",
       "      <td>...</td>\n",
       "      <td>...</td>\n",
       "      <td>...</td>\n",
       "    </tr>\n",
       "    <tr>\n",
       "      <th>10014</th>\n",
       "      <td>10015</td>\n",
       "      <td>NaN</td>\n",
       "      <td>NaN</td>\n",
       "      <td>NaN</td>\n",
       "      <td>NaN</td>\n",
       "      <td>NaN</td>\n",
       "    </tr>\n",
       "    <tr>\n",
       "      <th>10015</th>\n",
       "      <td>10016</td>\n",
       "      <td>NaN</td>\n",
       "      <td>NaN</td>\n",
       "      <td>NaN</td>\n",
       "      <td>NaN</td>\n",
       "      <td>NaN</td>\n",
       "    </tr>\n",
       "    <tr>\n",
       "      <th>10016</th>\n",
       "      <td>10017</td>\n",
       "      <td>NaN</td>\n",
       "      <td>NaN</td>\n",
       "      <td>NaN</td>\n",
       "      <td>NaN</td>\n",
       "      <td>NaN</td>\n",
       "    </tr>\n",
       "    <tr>\n",
       "      <th>10017</th>\n",
       "      <td>10018</td>\n",
       "      <td>NaN</td>\n",
       "      <td>NaN</td>\n",
       "      <td>NaN</td>\n",
       "      <td>NaN</td>\n",
       "      <td>NaN</td>\n",
       "    </tr>\n",
       "    <tr>\n",
       "      <th>10018</th>\n",
       "      <td>10019</td>\n",
       "      <td>NaN</td>\n",
       "      <td>NaN</td>\n",
       "      <td>NaN</td>\n",
       "      <td>NaN</td>\n",
       "      <td>NaN</td>\n",
       "    </tr>\n",
       "  </tbody>\n",
       "</table>\n",
       "<p>10019 rows × 6 columns</p>\n",
       "</div>"
      ],
      "text/plain": [
       "       RowNumber  CustomerId  Tenure  CreditScore    Balance  EstimatedSalary\n",
       "0              1  15634602.0     2.0        619.0        NaN        101348.88\n",
       "1              2  15647311.0     1.0        608.0   83807.86        112542.58\n",
       "2              3  15619304.0     8.0        502.0  159660.80        113931.57\n",
       "3              4  15701354.0     1.0        699.0        NaN         93826.63\n",
       "4              5  15737888.0     2.0        850.0  125510.82         79084.10\n",
       "...          ...         ...     ...          ...        ...              ...\n",
       "10014      10015         NaN     NaN          NaN        NaN              NaN\n",
       "10015      10016         NaN     NaN          NaN        NaN              NaN\n",
       "10016      10017         NaN     NaN          NaN        NaN              NaN\n",
       "10017      10018         NaN     NaN          NaN        NaN              NaN\n",
       "10018      10019         NaN     NaN          NaN        NaN              NaN\n",
       "\n",
       "[10019 rows x 6 columns]"
      ]
     },
     "execution_count": 36,
     "metadata": {},
     "output_type": "execute_result"
    }
   ],
   "source": [
    "cust_inv_df.drop_duplicates()"
   ]
  },
  {
   "cell_type": "code",
   "execution_count": 37,
   "id": "bf9b78b1",
   "metadata": {},
   "outputs": [
    {
     "data": {
      "text/plain": [
       "RowNumber             0\n",
       "CustomerId           19\n",
       "Tenure               19\n",
       "CreditScore          22\n",
       "Balance            3636\n",
       "EstimatedSalary      19\n",
       "dtype: int64"
      ]
     },
     "execution_count": 37,
     "metadata": {},
     "output_type": "execute_result"
    }
   ],
   "source": [
    "cust_inv_df.isnull().sum()"
   ]
  },
  {
   "cell_type": "code",
   "execution_count": 38,
   "id": "f8466a57",
   "metadata": {},
   "outputs": [
    {
     "data": {
      "text/html": [
       "<div>\n",
       "<style scoped>\n",
       "    .dataframe tbody tr th:only-of-type {\n",
       "        vertical-align: middle;\n",
       "    }\n",
       "\n",
       "    .dataframe tbody tr th {\n",
       "        vertical-align: top;\n",
       "    }\n",
       "\n",
       "    .dataframe thead th {\n",
       "        text-align: right;\n",
       "    }\n",
       "</style>\n",
       "<table border=\"1\" class=\"dataframe\">\n",
       "  <thead>\n",
       "    <tr style=\"text-align: right;\">\n",
       "      <th></th>\n",
       "      <th>RowNumber</th>\n",
       "      <th>CustomerId</th>\n",
       "      <th>Tenure</th>\n",
       "      <th>CreditScore</th>\n",
       "      <th>Balance</th>\n",
       "      <th>EstimatedSalary</th>\n",
       "    </tr>\n",
       "  </thead>\n",
       "  <tbody>\n",
       "    <tr>\n",
       "      <th>0</th>\n",
       "      <td>1</td>\n",
       "      <td>15634602.0</td>\n",
       "      <td>2.0</td>\n",
       "      <td>619.0</td>\n",
       "      <td>NaN</td>\n",
       "      <td>101348.88</td>\n",
       "    </tr>\n",
       "    <tr>\n",
       "      <th>1</th>\n",
       "      <td>2</td>\n",
       "      <td>15647311.0</td>\n",
       "      <td>1.0</td>\n",
       "      <td>608.0</td>\n",
       "      <td>83807.86</td>\n",
       "      <td>112542.58</td>\n",
       "    </tr>\n",
       "    <tr>\n",
       "      <th>2</th>\n",
       "      <td>3</td>\n",
       "      <td>15619304.0</td>\n",
       "      <td>8.0</td>\n",
       "      <td>502.0</td>\n",
       "      <td>159660.80</td>\n",
       "      <td>113931.57</td>\n",
       "    </tr>\n",
       "    <tr>\n",
       "      <th>3</th>\n",
       "      <td>4</td>\n",
       "      <td>15701354.0</td>\n",
       "      <td>1.0</td>\n",
       "      <td>699.0</td>\n",
       "      <td>NaN</td>\n",
       "      <td>93826.63</td>\n",
       "    </tr>\n",
       "    <tr>\n",
       "      <th>4</th>\n",
       "      <td>5</td>\n",
       "      <td>15737888.0</td>\n",
       "      <td>2.0</td>\n",
       "      <td>850.0</td>\n",
       "      <td>125510.82</td>\n",
       "      <td>79084.10</td>\n",
       "    </tr>\n",
       "    <tr>\n",
       "      <th>...</th>\n",
       "      <td>...</td>\n",
       "      <td>...</td>\n",
       "      <td>...</td>\n",
       "      <td>...</td>\n",
       "      <td>...</td>\n",
       "      <td>...</td>\n",
       "    </tr>\n",
       "    <tr>\n",
       "      <th>9995</th>\n",
       "      <td>9996</td>\n",
       "      <td>15606229.0</td>\n",
       "      <td>5.0</td>\n",
       "      <td>771.0</td>\n",
       "      <td>NaN</td>\n",
       "      <td>96270.64</td>\n",
       "    </tr>\n",
       "    <tr>\n",
       "      <th>9996</th>\n",
       "      <td>9997</td>\n",
       "      <td>15569892.0</td>\n",
       "      <td>10.0</td>\n",
       "      <td>516.0</td>\n",
       "      <td>57369.61</td>\n",
       "      <td>101699.77</td>\n",
       "    </tr>\n",
       "    <tr>\n",
       "      <th>9997</th>\n",
       "      <td>9998</td>\n",
       "      <td>15584532.0</td>\n",
       "      <td>7.0</td>\n",
       "      <td>709.0</td>\n",
       "      <td>NaN</td>\n",
       "      <td>42085.58</td>\n",
       "    </tr>\n",
       "    <tr>\n",
       "      <th>9998</th>\n",
       "      <td>9999</td>\n",
       "      <td>15682355.0</td>\n",
       "      <td>3.0</td>\n",
       "      <td>772.0</td>\n",
       "      <td>75075.31</td>\n",
       "      <td>92888.52</td>\n",
       "    </tr>\n",
       "    <tr>\n",
       "      <th>9999</th>\n",
       "      <td>10000</td>\n",
       "      <td>15628319.0</td>\n",
       "      <td>4.0</td>\n",
       "      <td>792.0</td>\n",
       "      <td>130142.79</td>\n",
       "      <td>38190.78</td>\n",
       "    </tr>\n",
       "  </tbody>\n",
       "</table>\n",
       "<p>10000 rows × 6 columns</p>\n",
       "</div>"
      ],
      "text/plain": [
       "      RowNumber  CustomerId  Tenure  CreditScore    Balance  EstimatedSalary\n",
       "0             1  15634602.0     2.0        619.0        NaN        101348.88\n",
       "1             2  15647311.0     1.0        608.0   83807.86        112542.58\n",
       "2             3  15619304.0     8.0        502.0  159660.80        113931.57\n",
       "3             4  15701354.0     1.0        699.0        NaN         93826.63\n",
       "4             5  15737888.0     2.0        850.0  125510.82         79084.10\n",
       "...         ...         ...     ...          ...        ...              ...\n",
       "9995       9996  15606229.0     5.0        771.0        NaN         96270.64\n",
       "9996       9997  15569892.0    10.0        516.0   57369.61        101699.77\n",
       "9997       9998  15584532.0     7.0        709.0        NaN         42085.58\n",
       "9998       9999  15682355.0     3.0        772.0   75075.31         92888.52\n",
       "9999      10000  15628319.0     4.0        792.0  130142.79         38190.78\n",
       "\n",
       "[10000 rows x 6 columns]"
      ]
     },
     "execution_count": 38,
     "metadata": {},
     "output_type": "execute_result"
    }
   ],
   "source": [
    "cust_inv_df = cust_inv_df[cust_inv_df['CustomerId'].notna()]\n",
    "#df = df[df['EPS'].notna()]\n",
    "cust_inv_df"
   ]
  },
  {
   "cell_type": "code",
   "execution_count": 39,
   "id": "c23a7e51",
   "metadata": {},
   "outputs": [
    {
     "data": {
      "text/plain": [
       "RowNumber             0\n",
       "CustomerId            0\n",
       "Tenure                0\n",
       "CreditScore           3\n",
       "Balance            3617\n",
       "EstimatedSalary       0\n",
       "dtype: int64"
      ]
     },
     "execution_count": 39,
     "metadata": {},
     "output_type": "execute_result"
    }
   ],
   "source": [
    "cust_inv_df.isnull().sum()"
   ]
  },
  {
   "cell_type": "code",
   "execution_count": 40,
   "id": "1aefdf7a",
   "metadata": {},
   "outputs": [
    {
     "data": {
      "text/html": [
       "<div>\n",
       "<style scoped>\n",
       "    .dataframe tbody tr th:only-of-type {\n",
       "        vertical-align: middle;\n",
       "    }\n",
       "\n",
       "    .dataframe tbody tr th {\n",
       "        vertical-align: top;\n",
       "    }\n",
       "\n",
       "    .dataframe thead th {\n",
       "        text-align: right;\n",
       "    }\n",
       "</style>\n",
       "<table border=\"1\" class=\"dataframe\">\n",
       "  <thead>\n",
       "    <tr style=\"text-align: right;\">\n",
       "      <th></th>\n",
       "      <th>RowNumber</th>\n",
       "      <th>CustomerId</th>\n",
       "      <th>Tenure</th>\n",
       "      <th>CreditScore</th>\n",
       "      <th>Balance</th>\n",
       "      <th>EstimatedSalary</th>\n",
       "    </tr>\n",
       "  </thead>\n",
       "  <tbody>\n",
       "    <tr>\n",
       "      <th>0</th>\n",
       "      <td>1</td>\n",
       "      <td>15634602.0</td>\n",
       "      <td>2.0</td>\n",
       "      <td>619.0</td>\n",
       "      <td>0.00</td>\n",
       "      <td>101348.88</td>\n",
       "    </tr>\n",
       "    <tr>\n",
       "      <th>1</th>\n",
       "      <td>2</td>\n",
       "      <td>15647311.0</td>\n",
       "      <td>1.0</td>\n",
       "      <td>608.0</td>\n",
       "      <td>83807.86</td>\n",
       "      <td>112542.58</td>\n",
       "    </tr>\n",
       "    <tr>\n",
       "      <th>2</th>\n",
       "      <td>3</td>\n",
       "      <td>15619304.0</td>\n",
       "      <td>8.0</td>\n",
       "      <td>502.0</td>\n",
       "      <td>159660.80</td>\n",
       "      <td>113931.57</td>\n",
       "    </tr>\n",
       "    <tr>\n",
       "      <th>3</th>\n",
       "      <td>4</td>\n",
       "      <td>15701354.0</td>\n",
       "      <td>1.0</td>\n",
       "      <td>699.0</td>\n",
       "      <td>0.00</td>\n",
       "      <td>93826.63</td>\n",
       "    </tr>\n",
       "    <tr>\n",
       "      <th>4</th>\n",
       "      <td>5</td>\n",
       "      <td>15737888.0</td>\n",
       "      <td>2.0</td>\n",
       "      <td>850.0</td>\n",
       "      <td>125510.82</td>\n",
       "      <td>79084.10</td>\n",
       "    </tr>\n",
       "    <tr>\n",
       "      <th>...</th>\n",
       "      <td>...</td>\n",
       "      <td>...</td>\n",
       "      <td>...</td>\n",
       "      <td>...</td>\n",
       "      <td>...</td>\n",
       "      <td>...</td>\n",
       "    </tr>\n",
       "    <tr>\n",
       "      <th>9995</th>\n",
       "      <td>9996</td>\n",
       "      <td>15606229.0</td>\n",
       "      <td>5.0</td>\n",
       "      <td>771.0</td>\n",
       "      <td>0.00</td>\n",
       "      <td>96270.64</td>\n",
       "    </tr>\n",
       "    <tr>\n",
       "      <th>9996</th>\n",
       "      <td>9997</td>\n",
       "      <td>15569892.0</td>\n",
       "      <td>10.0</td>\n",
       "      <td>516.0</td>\n",
       "      <td>57369.61</td>\n",
       "      <td>101699.77</td>\n",
       "    </tr>\n",
       "    <tr>\n",
       "      <th>9997</th>\n",
       "      <td>9998</td>\n",
       "      <td>15584532.0</td>\n",
       "      <td>7.0</td>\n",
       "      <td>709.0</td>\n",
       "      <td>0.00</td>\n",
       "      <td>42085.58</td>\n",
       "    </tr>\n",
       "    <tr>\n",
       "      <th>9998</th>\n",
       "      <td>9999</td>\n",
       "      <td>15682355.0</td>\n",
       "      <td>3.0</td>\n",
       "      <td>772.0</td>\n",
       "      <td>75075.31</td>\n",
       "      <td>92888.52</td>\n",
       "    </tr>\n",
       "    <tr>\n",
       "      <th>9999</th>\n",
       "      <td>10000</td>\n",
       "      <td>15628319.0</td>\n",
       "      <td>4.0</td>\n",
       "      <td>792.0</td>\n",
       "      <td>130142.79</td>\n",
       "      <td>38190.78</td>\n",
       "    </tr>\n",
       "  </tbody>\n",
       "</table>\n",
       "<p>10000 rows × 6 columns</p>\n",
       "</div>"
      ],
      "text/plain": [
       "      RowNumber  CustomerId  Tenure  CreditScore    Balance  EstimatedSalary\n",
       "0             1  15634602.0     2.0        619.0       0.00        101348.88\n",
       "1             2  15647311.0     1.0        608.0   83807.86        112542.58\n",
       "2             3  15619304.0     8.0        502.0  159660.80        113931.57\n",
       "3             4  15701354.0     1.0        699.0       0.00         93826.63\n",
       "4             5  15737888.0     2.0        850.0  125510.82         79084.10\n",
       "...         ...         ...     ...          ...        ...              ...\n",
       "9995       9996  15606229.0     5.0        771.0       0.00         96270.64\n",
       "9996       9997  15569892.0    10.0        516.0   57369.61        101699.77\n",
       "9997       9998  15584532.0     7.0        709.0       0.00         42085.58\n",
       "9998       9999  15682355.0     3.0        772.0   75075.31         92888.52\n",
       "9999      10000  15628319.0     4.0        792.0  130142.79         38190.78\n",
       "\n",
       "[10000 rows x 6 columns]"
      ]
     },
     "execution_count": 40,
     "metadata": {},
     "output_type": "execute_result"
    }
   ],
   "source": [
    "#Fill any Balance assuming as Zero balance\n",
    "#Credit Score to be updated with Mean Value\n",
    "cust_inv_df['Balance'] = cust_inv_df['Balance'].fillna(0)\n",
    "cust_inv_df"
   ]
  },
  {
   "cell_type": "code",
   "execution_count": 41,
   "id": "1b0f9ca4",
   "metadata": {},
   "outputs": [
    {
     "data": {
      "text/plain": [
       "RowNumber          0\n",
       "CustomerId         0\n",
       "Tenure             0\n",
       "CreditScore        3\n",
       "Balance            0\n",
       "EstimatedSalary    0\n",
       "dtype: int64"
      ]
     },
     "execution_count": 41,
     "metadata": {},
     "output_type": "execute_result"
    }
   ],
   "source": [
    "cust_inv_df.isnull().sum()"
   ]
  },
  {
   "cell_type": "code",
   "execution_count": null,
   "id": "58130384",
   "metadata": {},
   "outputs": [],
   "source": []
  },
  {
   "cell_type": "code",
   "execution_count": 42,
   "id": "85b95098",
   "metadata": {},
   "outputs": [
    {
     "data": {
      "text/html": [
       "<div>\n",
       "<style scoped>\n",
       "    .dataframe tbody tr th:only-of-type {\n",
       "        vertical-align: middle;\n",
       "    }\n",
       "\n",
       "    .dataframe tbody tr th {\n",
       "        vertical-align: top;\n",
       "    }\n",
       "\n",
       "    .dataframe thead th {\n",
       "        text-align: right;\n",
       "    }\n",
       "</style>\n",
       "<table border=\"1\" class=\"dataframe\">\n",
       "  <thead>\n",
       "    <tr style=\"text-align: right;\">\n",
       "      <th></th>\n",
       "      <th>RowNumber</th>\n",
       "      <th>CustomerId</th>\n",
       "      <th>Tenure</th>\n",
       "      <th>CreditScore</th>\n",
       "      <th>Balance</th>\n",
       "      <th>EstimatedSalary</th>\n",
       "    </tr>\n",
       "  </thead>\n",
       "  <tbody>\n",
       "    <tr>\n",
       "      <th>0</th>\n",
       "      <td>1</td>\n",
       "      <td>15634602.0</td>\n",
       "      <td>2.0</td>\n",
       "      <td>619.0</td>\n",
       "      <td>0.00</td>\n",
       "      <td>101348.88</td>\n",
       "    </tr>\n",
       "    <tr>\n",
       "      <th>1</th>\n",
       "      <td>2</td>\n",
       "      <td>15647311.0</td>\n",
       "      <td>1.0</td>\n",
       "      <td>608.0</td>\n",
       "      <td>83807.86</td>\n",
       "      <td>112542.58</td>\n",
       "    </tr>\n",
       "    <tr>\n",
       "      <th>2</th>\n",
       "      <td>3</td>\n",
       "      <td>15619304.0</td>\n",
       "      <td>8.0</td>\n",
       "      <td>502.0</td>\n",
       "      <td>159660.80</td>\n",
       "      <td>113931.57</td>\n",
       "    </tr>\n",
       "    <tr>\n",
       "      <th>3</th>\n",
       "      <td>4</td>\n",
       "      <td>15701354.0</td>\n",
       "      <td>1.0</td>\n",
       "      <td>699.0</td>\n",
       "      <td>0.00</td>\n",
       "      <td>93826.63</td>\n",
       "    </tr>\n",
       "    <tr>\n",
       "      <th>4</th>\n",
       "      <td>5</td>\n",
       "      <td>15737888.0</td>\n",
       "      <td>2.0</td>\n",
       "      <td>850.0</td>\n",
       "      <td>125510.82</td>\n",
       "      <td>79084.10</td>\n",
       "    </tr>\n",
       "    <tr>\n",
       "      <th>...</th>\n",
       "      <td>...</td>\n",
       "      <td>...</td>\n",
       "      <td>...</td>\n",
       "      <td>...</td>\n",
       "      <td>...</td>\n",
       "      <td>...</td>\n",
       "    </tr>\n",
       "    <tr>\n",
       "      <th>9995</th>\n",
       "      <td>9996</td>\n",
       "      <td>15606229.0</td>\n",
       "      <td>5.0</td>\n",
       "      <td>771.0</td>\n",
       "      <td>0.00</td>\n",
       "      <td>96270.64</td>\n",
       "    </tr>\n",
       "    <tr>\n",
       "      <th>9996</th>\n",
       "      <td>9997</td>\n",
       "      <td>15569892.0</td>\n",
       "      <td>10.0</td>\n",
       "      <td>516.0</td>\n",
       "      <td>57369.61</td>\n",
       "      <td>101699.77</td>\n",
       "    </tr>\n",
       "    <tr>\n",
       "      <th>9997</th>\n",
       "      <td>9998</td>\n",
       "      <td>15584532.0</td>\n",
       "      <td>7.0</td>\n",
       "      <td>709.0</td>\n",
       "      <td>0.00</td>\n",
       "      <td>42085.58</td>\n",
       "    </tr>\n",
       "    <tr>\n",
       "      <th>9998</th>\n",
       "      <td>9999</td>\n",
       "      <td>15682355.0</td>\n",
       "      <td>3.0</td>\n",
       "      <td>772.0</td>\n",
       "      <td>75075.31</td>\n",
       "      <td>92888.52</td>\n",
       "    </tr>\n",
       "    <tr>\n",
       "      <th>9999</th>\n",
       "      <td>10000</td>\n",
       "      <td>15628319.0</td>\n",
       "      <td>4.0</td>\n",
       "      <td>792.0</td>\n",
       "      <td>130142.79</td>\n",
       "      <td>38190.78</td>\n",
       "    </tr>\n",
       "  </tbody>\n",
       "</table>\n",
       "<p>10000 rows × 6 columns</p>\n",
       "</div>"
      ],
      "text/plain": [
       "      RowNumber  CustomerId  Tenure  CreditScore    Balance  EstimatedSalary\n",
       "0             1  15634602.0     2.0        619.0       0.00        101348.88\n",
       "1             2  15647311.0     1.0        608.0   83807.86        112542.58\n",
       "2             3  15619304.0     8.0        502.0  159660.80        113931.57\n",
       "3             4  15701354.0     1.0        699.0       0.00         93826.63\n",
       "4             5  15737888.0     2.0        850.0  125510.82         79084.10\n",
       "...         ...         ...     ...          ...        ...              ...\n",
       "9995       9996  15606229.0     5.0        771.0       0.00         96270.64\n",
       "9996       9997  15569892.0    10.0        516.0   57369.61        101699.77\n",
       "9997       9998  15584532.0     7.0        709.0       0.00         42085.58\n",
       "9998       9999  15682355.0     3.0        772.0   75075.31         92888.52\n",
       "9999      10000  15628319.0     4.0        792.0  130142.79         38190.78\n",
       "\n",
       "[10000 rows x 6 columns]"
      ]
     },
     "execution_count": 42,
     "metadata": {},
     "output_type": "execute_result"
    }
   ],
   "source": [
    "cust_inv_df['CreditScore'] = cust_inv_df['CreditScore'].fillna(cust_inv_df['CreditScore'].mean())\n",
    "cust_inv_df"
   ]
  },
  {
   "cell_type": "code",
   "execution_count": 43,
   "id": "e7273d57",
   "metadata": {},
   "outputs": [
    {
     "data": {
      "text/plain": [
       "RowNumber          0\n",
       "CustomerId         0\n",
       "Tenure             0\n",
       "CreditScore        0\n",
       "Balance            0\n",
       "EstimatedSalary    0\n",
       "dtype: int64"
      ]
     },
     "execution_count": 43,
     "metadata": {},
     "output_type": "execute_result"
    }
   ],
   "source": [
    "cust_inv_df.isnull().sum()"
   ]
  },
  {
   "cell_type": "code",
   "execution_count": 44,
   "id": "95638910",
   "metadata": {},
   "outputs": [
    {
     "data": {
      "text/html": [
       "<div>\n",
       "<style scoped>\n",
       "    .dataframe tbody tr th:only-of-type {\n",
       "        vertical-align: middle;\n",
       "    }\n",
       "\n",
       "    .dataframe tbody tr th {\n",
       "        vertical-align: top;\n",
       "    }\n",
       "\n",
       "    .dataframe thead th {\n",
       "        text-align: right;\n",
       "    }\n",
       "</style>\n",
       "<table border=\"1\" class=\"dataframe\">\n",
       "  <thead>\n",
       "    <tr style=\"text-align: right;\">\n",
       "      <th></th>\n",
       "      <th>RowNumber</th>\n",
       "      <th>CustomerId</th>\n",
       "      <th>Tenure</th>\n",
       "      <th>CreditScore</th>\n",
       "      <th>Balance</th>\n",
       "      <th>EstimatedSalary</th>\n",
       "    </tr>\n",
       "  </thead>\n",
       "  <tbody>\n",
       "    <tr>\n",
       "      <th>RowNumber</th>\n",
       "      <td>1.000000</td>\n",
       "      <td>0.002767</td>\n",
       "      <td>-0.005091</td>\n",
       "      <td>0.003547</td>\n",
       "      <td>-0.006304</td>\n",
       "      <td>-0.003990</td>\n",
       "    </tr>\n",
       "    <tr>\n",
       "      <th>CustomerId</th>\n",
       "      <td>0.002767</td>\n",
       "      <td>1.000000</td>\n",
       "      <td>-0.010550</td>\n",
       "      <td>0.004241</td>\n",
       "      <td>-0.009763</td>\n",
       "      <td>0.010188</td>\n",
       "    </tr>\n",
       "    <tr>\n",
       "      <th>Tenure</th>\n",
       "      <td>-0.005091</td>\n",
       "      <td>-0.010550</td>\n",
       "      <td>1.000000</td>\n",
       "      <td>0.000392</td>\n",
       "      <td>-0.006939</td>\n",
       "      <td>0.005470</td>\n",
       "    </tr>\n",
       "    <tr>\n",
       "      <th>CreditScore</th>\n",
       "      <td>0.003547</td>\n",
       "      <td>0.004241</td>\n",
       "      <td>0.000392</td>\n",
       "      <td>1.000000</td>\n",
       "      <td>0.004425</td>\n",
       "      <td>0.000458</td>\n",
       "    </tr>\n",
       "    <tr>\n",
       "      <th>Balance</th>\n",
       "      <td>-0.006304</td>\n",
       "      <td>-0.009763</td>\n",
       "      <td>-0.006939</td>\n",
       "      <td>0.004425</td>\n",
       "      <td>1.000000</td>\n",
       "      <td>0.008200</td>\n",
       "    </tr>\n",
       "    <tr>\n",
       "      <th>EstimatedSalary</th>\n",
       "      <td>-0.003990</td>\n",
       "      <td>0.010188</td>\n",
       "      <td>0.005470</td>\n",
       "      <td>0.000458</td>\n",
       "      <td>0.008200</td>\n",
       "      <td>1.000000</td>\n",
       "    </tr>\n",
       "  </tbody>\n",
       "</table>\n",
       "</div>"
      ],
      "text/plain": [
       "                 RowNumber  CustomerId    Tenure  CreditScore   Balance  \\\n",
       "RowNumber         1.000000    0.002767 -0.005091     0.003547 -0.006304   \n",
       "CustomerId        0.002767    1.000000 -0.010550     0.004241 -0.009763   \n",
       "Tenure           -0.005091   -0.010550  1.000000     0.000392 -0.006939   \n",
       "CreditScore       0.003547    0.004241  0.000392     1.000000  0.004425   \n",
       "Balance          -0.006304   -0.009763 -0.006939     0.004425  1.000000   \n",
       "EstimatedSalary  -0.003990    0.010188  0.005470     0.000458  0.008200   \n",
       "\n",
       "                 EstimatedSalary  \n",
       "RowNumber              -0.003990  \n",
       "CustomerId              0.010188  \n",
       "Tenure                  0.005470  \n",
       "CreditScore             0.000458  \n",
       "Balance                 0.008200  \n",
       "EstimatedSalary         1.000000  "
      ]
     },
     "execution_count": 44,
     "metadata": {},
     "output_type": "execute_result"
    }
   ],
   "source": [
    "cust_inv_df.corr(method ='kendall')"
   ]
  },
  {
   "cell_type": "code",
   "execution_count": 45,
   "id": "e3fe17b9",
   "metadata": {},
   "outputs": [
    {
     "data": {
      "text/html": [
       "<div>\n",
       "<style scoped>\n",
       "    .dataframe tbody tr th:only-of-type {\n",
       "        vertical-align: middle;\n",
       "    }\n",
       "\n",
       "    .dataframe tbody tr th {\n",
       "        vertical-align: top;\n",
       "    }\n",
       "\n",
       "    .dataframe thead th {\n",
       "        text-align: right;\n",
       "    }\n",
       "</style>\n",
       "<table border=\"1\" class=\"dataframe\">\n",
       "  <thead>\n",
       "    <tr style=\"text-align: right;\">\n",
       "      <th></th>\n",
       "      <th>RowNumber</th>\n",
       "      <th>Tenure</th>\n",
       "      <th>CreditScore</th>\n",
       "      <th>Balance</th>\n",
       "      <th>EstimatedSalary</th>\n",
       "    </tr>\n",
       "    <tr>\n",
       "      <th>CustomerId</th>\n",
       "      <th></th>\n",
       "      <th></th>\n",
       "      <th></th>\n",
       "      <th></th>\n",
       "      <th></th>\n",
       "    </tr>\n",
       "  </thead>\n",
       "  <tbody>\n",
       "    <tr>\n",
       "      <th>15565701.0</th>\n",
       "      <td>1288</td>\n",
       "      <td>9.0</td>\n",
       "      <td>698.0</td>\n",
       "      <td>161993.89</td>\n",
       "      <td>90212.38</td>\n",
       "    </tr>\n",
       "    <tr>\n",
       "      <th>15565706.0</th>\n",
       "      <td>4199</td>\n",
       "      <td>1.0</td>\n",
       "      <td>612.0</td>\n",
       "      <td>0.00</td>\n",
       "      <td>83256.26</td>\n",
       "    </tr>\n",
       "    <tr>\n",
       "      <th>15565714.0</th>\n",
       "      <td>7091</td>\n",
       "      <td>1.0</td>\n",
       "      <td>601.0</td>\n",
       "      <td>64430.06</td>\n",
       "      <td>96517.97</td>\n",
       "    </tr>\n",
       "    <tr>\n",
       "      <th>15565779.0</th>\n",
       "      <td>2021</td>\n",
       "      <td>6.0</td>\n",
       "      <td>627.0</td>\n",
       "      <td>57809.32</td>\n",
       "      <td>188258.49</td>\n",
       "    </tr>\n",
       "    <tr>\n",
       "      <th>15565796.0</th>\n",
       "      <td>3698</td>\n",
       "      <td>10.0</td>\n",
       "      <td>745.0</td>\n",
       "      <td>96048.55</td>\n",
       "      <td>74510.65</td>\n",
       "    </tr>\n",
       "    <tr>\n",
       "      <th>...</th>\n",
       "      <td>...</td>\n",
       "      <td>...</td>\n",
       "      <td>...</td>\n",
       "      <td>...</td>\n",
       "      <td>...</td>\n",
       "    </tr>\n",
       "    <tr>\n",
       "      <th>15815628.0</th>\n",
       "      <td>3412</td>\n",
       "      <td>8.0</td>\n",
       "      <td>711.0</td>\n",
       "      <td>113899.92</td>\n",
       "      <td>80215.20</td>\n",
       "    </tr>\n",
       "    <tr>\n",
       "      <th>15815645.0</th>\n",
       "      <td>8272</td>\n",
       "      <td>8.0</td>\n",
       "      <td>481.0</td>\n",
       "      <td>152303.66</td>\n",
       "      <td>175082.20</td>\n",
       "    </tr>\n",
       "    <tr>\n",
       "      <th>15815656.0</th>\n",
       "      <td>8089</td>\n",
       "      <td>9.0</td>\n",
       "      <td>541.0</td>\n",
       "      <td>100116.67</td>\n",
       "      <td>199808.10</td>\n",
       "    </tr>\n",
       "    <tr>\n",
       "      <th>15815660.0</th>\n",
       "      <td>1763</td>\n",
       "      <td>1.0</td>\n",
       "      <td>758.0</td>\n",
       "      <td>154139.45</td>\n",
       "      <td>60728.89</td>\n",
       "    </tr>\n",
       "    <tr>\n",
       "      <th>15815690.0</th>\n",
       "      <td>5503</td>\n",
       "      <td>3.0</td>\n",
       "      <td>614.0</td>\n",
       "      <td>113348.50</td>\n",
       "      <td>77789.01</td>\n",
       "    </tr>\n",
       "  </tbody>\n",
       "</table>\n",
       "<p>10000 rows × 5 columns</p>\n",
       "</div>"
      ],
      "text/plain": [
       "            RowNumber  Tenure  CreditScore    Balance  EstimatedSalary\n",
       "CustomerId                                                            \n",
       "15565701.0       1288     9.0        698.0  161993.89         90212.38\n",
       "15565706.0       4199     1.0        612.0       0.00         83256.26\n",
       "15565714.0       7091     1.0        601.0   64430.06         96517.97\n",
       "15565779.0       2021     6.0        627.0   57809.32        188258.49\n",
       "15565796.0       3698    10.0        745.0   96048.55         74510.65\n",
       "...               ...     ...          ...        ...              ...\n",
       "15815628.0       3412     8.0        711.0  113899.92         80215.20\n",
       "15815645.0       8272     8.0        481.0  152303.66        175082.20\n",
       "15815656.0       8089     9.0        541.0  100116.67        199808.10\n",
       "15815660.0       1763     1.0        758.0  154139.45         60728.89\n",
       "15815690.0       5503     3.0        614.0  113348.50         77789.01\n",
       "\n",
       "[10000 rows x 5 columns]"
      ]
     },
     "execution_count": 45,
     "metadata": {},
     "output_type": "execute_result"
    }
   ],
   "source": [
    "cust_inv_df1 = cust_inv_df.groupby(\"CustomerId\")\n",
    "cust_inv_df1.sum()"
   ]
  },
  {
   "cell_type": "code",
   "execution_count": 46,
   "id": "f20c46b9",
   "metadata": {},
   "outputs": [
    {
     "data": {
      "text/html": [
       "<div>\n",
       "<style scoped>\n",
       "    .dataframe tbody tr th:only-of-type {\n",
       "        vertical-align: middle;\n",
       "    }\n",
       "\n",
       "    .dataframe tbody tr th {\n",
       "        vertical-align: top;\n",
       "    }\n",
       "\n",
       "    .dataframe thead th {\n",
       "        text-align: right;\n",
       "    }\n",
       "</style>\n",
       "<table border=\"1\" class=\"dataframe\">\n",
       "  <thead>\n",
       "    <tr style=\"text-align: right;\">\n",
       "      <th></th>\n",
       "      <th>RowNumber</th>\n",
       "      <th>CustomerId</th>\n",
       "      <th>NumOfProducts</th>\n",
       "      <th>HasChckng</th>\n",
       "      <th>IsActiveMember</th>\n",
       "    </tr>\n",
       "  </thead>\n",
       "  <tbody>\n",
       "    <tr>\n",
       "      <th>0</th>\n",
       "      <td>1288</td>\n",
       "      <td>15565701</td>\n",
       "      <td>1.0</td>\n",
       "      <td>0.0</td>\n",
       "      <td>0.0</td>\n",
       "    </tr>\n",
       "    <tr>\n",
       "      <th>1</th>\n",
       "      <td>4199</td>\n",
       "      <td>15565706</td>\n",
       "      <td>1.0</td>\n",
       "      <td>1.0</td>\n",
       "      <td>1.0</td>\n",
       "    </tr>\n",
       "    <tr>\n",
       "      <th>2</th>\n",
       "      <td>7091</td>\n",
       "      <td>15565714</td>\n",
       "      <td>2.0</td>\n",
       "      <td>0.0</td>\n",
       "      <td>1.0</td>\n",
       "    </tr>\n",
       "    <tr>\n",
       "      <th>3</th>\n",
       "      <td>2021</td>\n",
       "      <td>15565779</td>\n",
       "      <td>1.0</td>\n",
       "      <td>1.0</td>\n",
       "      <td>0.0</td>\n",
       "    </tr>\n",
       "    <tr>\n",
       "      <th>4</th>\n",
       "      <td>3698</td>\n",
       "      <td>15565796</td>\n",
       "      <td>1.0</td>\n",
       "      <td>1.0</td>\n",
       "      <td>0.0</td>\n",
       "    </tr>\n",
       "  </tbody>\n",
       "</table>\n",
       "</div>"
      ],
      "text/plain": [
       "   RowNumber  CustomerId  NumOfProducts  HasChckng  IsActiveMember\n",
       "0       1288    15565701            1.0        0.0             0.0\n",
       "1       4199    15565706            1.0        1.0             1.0\n",
       "2       7091    15565714            2.0        0.0             1.0\n",
       "3       2021    15565779            1.0        1.0             0.0\n",
       "4       3698    15565796            1.0        1.0             0.0"
      ]
     },
     "execution_count": 46,
     "metadata": {},
     "output_type": "execute_result"
    }
   ],
   "source": [
    "#Customer Portfolio Snapshot - Load data into data frame\n",
    "\n",
    "cust_port_df = pd.read_csv(\"Customer Portfolio Snapshot.csv\")\n",
    "cust_port_df.head()\n",
    "\n",
    "#cust_demo_df.isnull().sum()"
   ]
  },
  {
   "cell_type": "code",
   "execution_count": 47,
   "id": "581ce1e5",
   "metadata": {},
   "outputs": [
    {
     "data": {
      "text/plain": [
       "RowNumber         10021\n",
       "CustomerId        10021\n",
       "NumOfProducts     10002\n",
       "HasChckng         10002\n",
       "IsActiveMember    10002\n",
       "dtype: int64"
      ]
     },
     "execution_count": 47,
     "metadata": {},
     "output_type": "execute_result"
    }
   ],
   "source": [
    "cust_port_df.count()"
   ]
  },
  {
   "cell_type": "code",
   "execution_count": 48,
   "id": "e5ae694f",
   "metadata": {},
   "outputs": [
    {
     "data": {
      "text/html": [
       "<div>\n",
       "<style scoped>\n",
       "    .dataframe tbody tr th:only-of-type {\n",
       "        vertical-align: middle;\n",
       "    }\n",
       "\n",
       "    .dataframe tbody tr th {\n",
       "        vertical-align: top;\n",
       "    }\n",
       "\n",
       "    .dataframe thead th {\n",
       "        text-align: right;\n",
       "    }\n",
       "</style>\n",
       "<table border=\"1\" class=\"dataframe\">\n",
       "  <thead>\n",
       "    <tr style=\"text-align: right;\">\n",
       "      <th></th>\n",
       "      <th>RowNumber</th>\n",
       "      <th>CustomerId</th>\n",
       "      <th>NumOfProducts</th>\n",
       "      <th>HasChckng</th>\n",
       "      <th>IsActiveMember</th>\n",
       "    </tr>\n",
       "  </thead>\n",
       "  <tbody>\n",
       "    <tr>\n",
       "      <th>count</th>\n",
       "      <td>10021.000000</td>\n",
       "      <td>1.002100e+04</td>\n",
       "      <td>10002.000000</td>\n",
       "      <td>10002.000000</td>\n",
       "      <td>10002.000000</td>\n",
       "    </tr>\n",
       "    <tr>\n",
       "      <th>mean</th>\n",
       "      <td>5009.530785</td>\n",
       "      <td>1.569120e+07</td>\n",
       "      <td>1.530494</td>\n",
       "      <td>0.705359</td>\n",
       "      <td>0.514997</td>\n",
       "    </tr>\n",
       "    <tr>\n",
       "      <th>std</th>\n",
       "      <td>2892.282521</td>\n",
       "      <td>7.208683e+04</td>\n",
       "      <td>0.581967</td>\n",
       "      <td>0.455904</td>\n",
       "      <td>0.499800</td>\n",
       "    </tr>\n",
       "    <tr>\n",
       "      <th>min</th>\n",
       "      <td>1.000000</td>\n",
       "      <td>1.556570e+07</td>\n",
       "      <td>1.000000</td>\n",
       "      <td>0.000000</td>\n",
       "      <td>0.000000</td>\n",
       "    </tr>\n",
       "    <tr>\n",
       "      <th>25%</th>\n",
       "      <td>2506.000000</td>\n",
       "      <td>1.562870e+07</td>\n",
       "      <td>1.000000</td>\n",
       "      <td>0.000000</td>\n",
       "      <td>0.000000</td>\n",
       "    </tr>\n",
       "    <tr>\n",
       "      <th>50%</th>\n",
       "      <td>5009.000000</td>\n",
       "      <td>1.569101e+07</td>\n",
       "      <td>1.000000</td>\n",
       "      <td>1.000000</td>\n",
       "      <td>1.000000</td>\n",
       "    </tr>\n",
       "    <tr>\n",
       "      <th>75%</th>\n",
       "      <td>7514.000000</td>\n",
       "      <td>1.575383e+07</td>\n",
       "      <td>2.000000</td>\n",
       "      <td>1.000000</td>\n",
       "      <td>1.000000</td>\n",
       "    </tr>\n",
       "    <tr>\n",
       "      <th>max</th>\n",
       "      <td>10019.000000</td>\n",
       "      <td>1.581571e+07</td>\n",
       "      <td>4.000000</td>\n",
       "      <td>1.000000</td>\n",
       "      <td>1.000000</td>\n",
       "    </tr>\n",
       "  </tbody>\n",
       "</table>\n",
       "</div>"
      ],
      "text/plain": [
       "          RowNumber    CustomerId  NumOfProducts     HasChckng  IsActiveMember\n",
       "count  10021.000000  1.002100e+04   10002.000000  10002.000000    10002.000000\n",
       "mean    5009.530785  1.569120e+07       1.530494      0.705359        0.514997\n",
       "std     2892.282521  7.208683e+04       0.581967      0.455904        0.499800\n",
       "min        1.000000  1.556570e+07       1.000000      0.000000        0.000000\n",
       "25%     2506.000000  1.562870e+07       1.000000      0.000000        0.000000\n",
       "50%     5009.000000  1.569101e+07       1.000000      1.000000        1.000000\n",
       "75%     7514.000000  1.575383e+07       2.000000      1.000000        1.000000\n",
       "max    10019.000000  1.581571e+07       4.000000      1.000000        1.000000"
      ]
     },
     "execution_count": 48,
     "metadata": {},
     "output_type": "execute_result"
    }
   ],
   "source": [
    "cust_port_df.describe()"
   ]
  },
  {
   "cell_type": "code",
   "execution_count": 49,
   "id": "b09e6a8c",
   "metadata": {},
   "outputs": [
    {
     "name": "stdout",
     "output_type": "stream",
     "text": [
      "<class 'pandas.core.frame.DataFrame'>\n",
      "RangeIndex: 10021 entries, 0 to 10020\n",
      "Data columns (total 5 columns):\n",
      " #   Column          Non-Null Count  Dtype  \n",
      "---  ------          --------------  -----  \n",
      " 0   RowNumber       10021 non-null  int64  \n",
      " 1   CustomerId      10021 non-null  int64  \n",
      " 2   NumOfProducts   10002 non-null  float64\n",
      " 3   HasChckng       10002 non-null  float64\n",
      " 4   IsActiveMember  10002 non-null  float64\n",
      "dtypes: float64(3), int64(2)\n",
      "memory usage: 391.6 KB\n"
     ]
    }
   ],
   "source": [
    "cust_port_df.info()"
   ]
  },
  {
   "cell_type": "code",
   "execution_count": 50,
   "id": "ad8ffc10",
   "metadata": {},
   "outputs": [
    {
     "data": {
      "text/plain": [
       "RowNumber         10021\n",
       "CustomerId        10021\n",
       "NumOfProducts     10002\n",
       "HasChckng         10002\n",
       "IsActiveMember    10002\n",
       "dtype: int64"
      ]
     },
     "execution_count": 50,
     "metadata": {},
     "output_type": "execute_result"
    }
   ],
   "source": [
    "cust_port_df.count()"
   ]
  },
  {
   "cell_type": "code",
   "execution_count": 51,
   "id": "85090005",
   "metadata": {},
   "outputs": [
    {
     "data": {
      "text/plain": [
       "RowNumber         False\n",
       "CustomerId        False\n",
       "NumOfProducts      True\n",
       "HasChckng          True\n",
       "IsActiveMember     True\n",
       "dtype: bool"
      ]
     },
     "execution_count": 51,
     "metadata": {},
     "output_type": "execute_result"
    }
   ],
   "source": [
    "cust_port_df.isna().any()"
   ]
  },
  {
   "cell_type": "code",
   "execution_count": 52,
   "id": "cd132fb7",
   "metadata": {},
   "outputs": [
    {
     "data": {
      "text/plain": [
       "RowNumber          0\n",
       "CustomerId         0\n",
       "NumOfProducts     19\n",
       "HasChckng         19\n",
       "IsActiveMember    19\n",
       "dtype: int64"
      ]
     },
     "execution_count": 52,
     "metadata": {},
     "output_type": "execute_result"
    }
   ],
   "source": [
    "cust_port_df.isnull().sum()"
   ]
  },
  {
   "cell_type": "code",
   "execution_count": 53,
   "id": "d6ea9e33",
   "metadata": {},
   "outputs": [
    {
     "data": {
      "text/plain": [
       "RowNumber         10002\n",
       "CustomerId        10002\n",
       "NumOfProducts     10002\n",
       "HasChckng         10002\n",
       "IsActiveMember    10002\n",
       "dtype: int64"
      ]
     },
     "execution_count": 53,
     "metadata": {},
     "output_type": "execute_result"
    }
   ],
   "source": [
    "cust_port_df.dropna(inplace = True)\n",
    "cust_port_df.count()"
   ]
  },
  {
   "cell_type": "code",
   "execution_count": 54,
   "id": "246d5de9",
   "metadata": {},
   "outputs": [
    {
     "data": {
      "text/plain": [
       "0        False\n",
       "1        False\n",
       "2        False\n",
       "3        False\n",
       "4        False\n",
       "         ...  \n",
       "9997     False\n",
       "9998     False\n",
       "9999     False\n",
       "10000    False\n",
       "10001    False\n",
       "Length: 10002, dtype: bool"
      ]
     },
     "execution_count": 54,
     "metadata": {},
     "output_type": "execute_result"
    }
   ],
   "source": [
    "cust_port_df.drop_duplicates()\n",
    "cust_port_df.duplicated()"
   ]
  },
  {
   "cell_type": "code",
   "execution_count": 55,
   "id": "996bcd9e",
   "metadata": {},
   "outputs": [
    {
     "data": {
      "text/plain": [
       "RowNumber         0\n",
       "CustomerId        0\n",
       "NumOfProducts     0\n",
       "HasChckng         0\n",
       "IsActiveMember    0\n",
       "dtype: int64"
      ]
     },
     "execution_count": 55,
     "metadata": {},
     "output_type": "execute_result"
    }
   ],
   "source": [
    "cust_port_df.isnull().sum()"
   ]
  },
  {
   "cell_type": "code",
   "execution_count": 56,
   "id": "a16efbdf",
   "metadata": {},
   "outputs": [
    {
     "data": {
      "text/html": [
       "<div>\n",
       "<style scoped>\n",
       "    .dataframe tbody tr th:only-of-type {\n",
       "        vertical-align: middle;\n",
       "    }\n",
       "\n",
       "    .dataframe tbody tr th {\n",
       "        vertical-align: top;\n",
       "    }\n",
       "\n",
       "    .dataframe thead th {\n",
       "        text-align: right;\n",
       "    }\n",
       "</style>\n",
       "<table border=\"1\" class=\"dataframe\">\n",
       "  <thead>\n",
       "    <tr style=\"text-align: right;\">\n",
       "      <th></th>\n",
       "      <th>RowNumber</th>\n",
       "      <th>NumOfProducts</th>\n",
       "      <th>HasChckng</th>\n",
       "      <th>IsActiveMember</th>\n",
       "    </tr>\n",
       "    <tr>\n",
       "      <th>CustomerId</th>\n",
       "      <th></th>\n",
       "      <th></th>\n",
       "      <th></th>\n",
       "      <th></th>\n",
       "    </tr>\n",
       "  </thead>\n",
       "  <tbody>\n",
       "    <tr>\n",
       "      <th>15565701</th>\n",
       "      <td>1288</td>\n",
       "      <td>1.0</td>\n",
       "      <td>0.0</td>\n",
       "      <td>0.0</td>\n",
       "    </tr>\n",
       "    <tr>\n",
       "      <th>15565706</th>\n",
       "      <td>4199</td>\n",
       "      <td>1.0</td>\n",
       "      <td>1.0</td>\n",
       "      <td>1.0</td>\n",
       "    </tr>\n",
       "    <tr>\n",
       "      <th>15565714</th>\n",
       "      <td>7091</td>\n",
       "      <td>2.0</td>\n",
       "      <td>0.0</td>\n",
       "      <td>1.0</td>\n",
       "    </tr>\n",
       "    <tr>\n",
       "      <th>15565779</th>\n",
       "      <td>2021</td>\n",
       "      <td>1.0</td>\n",
       "      <td>1.0</td>\n",
       "      <td>0.0</td>\n",
       "    </tr>\n",
       "    <tr>\n",
       "      <th>15565796</th>\n",
       "      <td>3698</td>\n",
       "      <td>1.0</td>\n",
       "      <td>1.0</td>\n",
       "      <td>0.0</td>\n",
       "    </tr>\n",
       "    <tr>\n",
       "      <th>...</th>\n",
       "      <td>...</td>\n",
       "      <td>...</td>\n",
       "      <td>...</td>\n",
       "      <td>...</td>\n",
       "    </tr>\n",
       "    <tr>\n",
       "      <th>15815628</th>\n",
       "      <td>3412</td>\n",
       "      <td>1.0</td>\n",
       "      <td>0.0</td>\n",
       "      <td>0.0</td>\n",
       "    </tr>\n",
       "    <tr>\n",
       "      <th>15815645</th>\n",
       "      <td>8272</td>\n",
       "      <td>2.0</td>\n",
       "      <td>1.0</td>\n",
       "      <td>1.0</td>\n",
       "    </tr>\n",
       "    <tr>\n",
       "      <th>15815656</th>\n",
       "      <td>8089</td>\n",
       "      <td>1.0</td>\n",
       "      <td>1.0</td>\n",
       "      <td>1.0</td>\n",
       "    </tr>\n",
       "    <tr>\n",
       "      <th>15815660</th>\n",
       "      <td>1763</td>\n",
       "      <td>1.0</td>\n",
       "      <td>1.0</td>\n",
       "      <td>1.0</td>\n",
       "    </tr>\n",
       "    <tr>\n",
       "      <th>15815690</th>\n",
       "      <td>5503</td>\n",
       "      <td>1.0</td>\n",
       "      <td>1.0</td>\n",
       "      <td>1.0</td>\n",
       "    </tr>\n",
       "  </tbody>\n",
       "</table>\n",
       "<p>10000 rows × 4 columns</p>\n",
       "</div>"
      ],
      "text/plain": [
       "            RowNumber  NumOfProducts  HasChckng  IsActiveMember\n",
       "CustomerId                                                     \n",
       "15565701         1288            1.0        0.0             0.0\n",
       "15565706         4199            1.0        1.0             1.0\n",
       "15565714         7091            2.0        0.0             1.0\n",
       "15565779         2021            1.0        1.0             0.0\n",
       "15565796         3698            1.0        1.0             0.0\n",
       "...               ...            ...        ...             ...\n",
       "15815628         3412            1.0        0.0             0.0\n",
       "15815645         8272            2.0        1.0             1.0\n",
       "15815656         8089            1.0        1.0             1.0\n",
       "15815660         1763            1.0        1.0             1.0\n",
       "15815690         5503            1.0        1.0             1.0\n",
       "\n",
       "[10000 rows x 4 columns]"
      ]
     },
     "execution_count": 56,
     "metadata": {},
     "output_type": "execute_result"
    }
   ],
   "source": [
    "cust_port_df1 = cust_port_df.groupby(\"CustomerId\")\n",
    "cust_port_df1.sum()"
   ]
  },
  {
   "cell_type": "code",
   "execution_count": 57,
   "id": "01207bc2",
   "metadata": {},
   "outputs": [
    {
     "data": {
      "text/plain": [
       "array([1., 2., 3., 4.])"
      ]
     },
     "execution_count": 57,
     "metadata": {},
     "output_type": "execute_result"
    }
   ],
   "source": [
    "#Categorical Variables \n",
    "cust_port_df[\"NumOfProducts\"].nunique()\n",
    "cust_port_df[\"NumOfProducts\"].unique()"
   ]
  },
  {
   "cell_type": "code",
   "execution_count": 58,
   "id": "def0d3b5",
   "metadata": {},
   "outputs": [
    {
     "data": {
      "text/plain": [
       "array([0., 1.])"
      ]
     },
     "execution_count": 58,
     "metadata": {},
     "output_type": "execute_result"
    }
   ],
   "source": [
    "cust_port_df[\"HasChckng\"].nunique()\n",
    "cust_port_df[\"HasChckng\"].unique()"
   ]
  },
  {
   "cell_type": "code",
   "execution_count": 59,
   "id": "e4b96c88",
   "metadata": {},
   "outputs": [
    {
     "data": {
      "text/plain": [
       "array([0., 1.])"
      ]
     },
     "execution_count": 59,
     "metadata": {},
     "output_type": "execute_result"
    }
   ],
   "source": [
    "cust_port_df[\"IsActiveMember\"].nunique()\n",
    "cust_port_df[\"IsActiveMember\"].unique()"
   ]
  },
  {
   "cell_type": "code",
   "execution_count": 60,
   "id": "11b0e215",
   "metadata": {},
   "outputs": [
    {
     "data": {
      "text/plain": [
       "1.0    5084\n",
       "2.0    4590\n",
       "3.0     268\n",
       "4.0      60\n",
       "Name: NumOfProducts, dtype: int64"
      ]
     },
     "execution_count": 60,
     "metadata": {},
     "output_type": "execute_result"
    }
   ],
   "source": [
    "cust_port_df[\"NumOfProducts\"].value_counts()"
   ]
  },
  {
   "cell_type": "code",
   "execution_count": 61,
   "id": "23d4f455",
   "metadata": {},
   "outputs": [
    {
     "data": {
      "text/plain": [
       "1.0    7055\n",
       "0.0    2947\n",
       "Name: HasChckng, dtype: int64"
      ]
     },
     "execution_count": 61,
     "metadata": {},
     "output_type": "execute_result"
    }
   ],
   "source": [
    "cust_port_df[\"HasChckng\"].value_counts()"
   ]
  },
  {
   "cell_type": "code",
   "execution_count": 62,
   "id": "2b723237",
   "metadata": {},
   "outputs": [
    {
     "data": {
      "text/plain": [
       "1.0    5151\n",
       "0.0    4851\n",
       "Name: IsActiveMember, dtype: int64"
      ]
     },
     "execution_count": 62,
     "metadata": {},
     "output_type": "execute_result"
    }
   ],
   "source": [
    "cust_port_df[\"IsActiveMember\"].value_counts()"
   ]
  },
  {
   "cell_type": "markdown",
   "id": "976ae840",
   "metadata": {},
   "source": [
    "Merging the data frames"
   ]
  },
  {
   "cell_type": "code",
   "execution_count": 63,
   "id": "008ce54e",
   "metadata": {},
   "outputs": [
    {
     "data": {
      "text/html": [
       "<div>\n",
       "<style scoped>\n",
       "    .dataframe tbody tr th:only-of-type {\n",
       "        vertical-align: middle;\n",
       "    }\n",
       "\n",
       "    .dataframe tbody tr th {\n",
       "        vertical-align: top;\n",
       "    }\n",
       "\n",
       "    .dataframe thead th {\n",
       "        text-align: right;\n",
       "    }\n",
       "</style>\n",
       "<table border=\"1\" class=\"dataframe\">\n",
       "  <thead>\n",
       "    <tr style=\"text-align: right;\">\n",
       "      <th></th>\n",
       "      <th>RowNumber_x</th>\n",
       "      <th>CustomerId</th>\n",
       "      <th>Surname</th>\n",
       "      <th>Geography</th>\n",
       "      <th>Gender</th>\n",
       "      <th>Age</th>\n",
       "      <th>RowNumber_y</th>\n",
       "      <th>Exited</th>\n",
       "    </tr>\n",
       "  </thead>\n",
       "  <tbody>\n",
       "    <tr>\n",
       "      <th>0</th>\n",
       "      <td>1</td>\n",
       "      <td>15634602.0</td>\n",
       "      <td>Hargrave</td>\n",
       "      <td>West</td>\n",
       "      <td>Female</td>\n",
       "      <td>42.0</td>\n",
       "      <td>1</td>\n",
       "      <td>1.0</td>\n",
       "    </tr>\n",
       "    <tr>\n",
       "      <th>1</th>\n",
       "      <td>2</td>\n",
       "      <td>15647311.0</td>\n",
       "      <td>Hill</td>\n",
       "      <td>Central</td>\n",
       "      <td>Female</td>\n",
       "      <td>41.0</td>\n",
       "      <td>2</td>\n",
       "      <td>0.0</td>\n",
       "    </tr>\n",
       "    <tr>\n",
       "      <th>2</th>\n",
       "      <td>3</td>\n",
       "      <td>15619304.0</td>\n",
       "      <td>Onio</td>\n",
       "      <td>West</td>\n",
       "      <td>Female</td>\n",
       "      <td>42.0</td>\n",
       "      <td>3</td>\n",
       "      <td>1.0</td>\n",
       "    </tr>\n",
       "    <tr>\n",
       "      <th>3</th>\n",
       "      <td>4</td>\n",
       "      <td>15701354.0</td>\n",
       "      <td>Boni</td>\n",
       "      <td>West</td>\n",
       "      <td>Female</td>\n",
       "      <td>39.0</td>\n",
       "      <td>4</td>\n",
       "      <td>0.0</td>\n",
       "    </tr>\n",
       "    <tr>\n",
       "      <th>4</th>\n",
       "      <td>5</td>\n",
       "      <td>15737888.0</td>\n",
       "      <td>Mitchell</td>\n",
       "      <td>Central</td>\n",
       "      <td>Female</td>\n",
       "      <td>43.0</td>\n",
       "      <td>5</td>\n",
       "      <td>0.0</td>\n",
       "    </tr>\n",
       "  </tbody>\n",
       "</table>\n",
       "</div>"
      ],
      "text/plain": [
       "   RowNumber_x  CustomerId   Surname Geography  Gender   Age  RowNumber_y  \\\n",
       "0            1  15634602.0  Hargrave      West  Female  42.0            1   \n",
       "1            2  15647311.0      Hill   Central  Female  41.0            2   \n",
       "2            3  15619304.0      Onio      West  Female  42.0            3   \n",
       "3            4  15701354.0      Boni      West  Female  39.0            4   \n",
       "4            5  15737888.0  Mitchell   Central  Female  43.0            5   \n",
       "\n",
       "   Exited  \n",
       "0     1.0  \n",
       "1     0.0  \n",
       "2     1.0  \n",
       "3     0.0  \n",
       "4     0.0  "
      ]
     },
     "execution_count": 63,
     "metadata": {},
     "output_type": "execute_result"
    }
   ],
   "source": [
    "\n",
    "cust_merge1 = pd.merge(cust_demo_df,cust_attr_df,on='CustomerId')\n",
    "cust_merge1.head()"
   ]
  },
  {
   "cell_type": "code",
   "execution_count": 64,
   "id": "9d13e44b",
   "metadata": {},
   "outputs": [
    {
     "data": {
      "text/plain": [
       "RowNumber_x    10000\n",
       "CustomerId     10000\n",
       "Surname        10000\n",
       "Geography      10000\n",
       "Gender         10000\n",
       "Age            10000\n",
       "RowNumber_y    10000\n",
       "Exited         10000\n",
       "dtype: int64"
      ]
     },
     "execution_count": 64,
     "metadata": {},
     "output_type": "execute_result"
    }
   ],
   "source": [
    "cust_merge1.count()"
   ]
  },
  {
   "cell_type": "code",
   "execution_count": 67,
   "id": "c66c759c",
   "metadata": {},
   "outputs": [],
   "source": [
    "#cut_merge2 = pd.merge(cust_demo_df,cust_attr_df,on='CustomerId',how ='inner')\n",
    "#cust_merge2.head()"
   ]
  },
  {
   "cell_type": "code",
   "execution_count": 68,
   "id": "2548f421",
   "metadata": {},
   "outputs": [
    {
     "data": {
      "text/html": [
       "<div>\n",
       "<style scoped>\n",
       "    .dataframe tbody tr th:only-of-type {\n",
       "        vertical-align: middle;\n",
       "    }\n",
       "\n",
       "    .dataframe tbody tr th {\n",
       "        vertical-align: top;\n",
       "    }\n",
       "\n",
       "    .dataframe thead th {\n",
       "        text-align: right;\n",
       "    }\n",
       "</style>\n",
       "<table border=\"1\" class=\"dataframe\">\n",
       "  <thead>\n",
       "    <tr style=\"text-align: right;\">\n",
       "      <th></th>\n",
       "      <th>RowNumber_x</th>\n",
       "      <th>CustomerId</th>\n",
       "      <th>Tenure</th>\n",
       "      <th>CreditScore</th>\n",
       "      <th>Balance</th>\n",
       "      <th>EstimatedSalary</th>\n",
       "      <th>RowNumber_y</th>\n",
       "      <th>NumOfProducts</th>\n",
       "      <th>HasChckng</th>\n",
       "      <th>IsActiveMember</th>\n",
       "    </tr>\n",
       "  </thead>\n",
       "  <tbody>\n",
       "    <tr>\n",
       "      <th>0</th>\n",
       "      <td>1</td>\n",
       "      <td>15634602.0</td>\n",
       "      <td>2.0</td>\n",
       "      <td>619.0</td>\n",
       "      <td>0.00</td>\n",
       "      <td>101348.88</td>\n",
       "      <td>1</td>\n",
       "      <td>1.0</td>\n",
       "      <td>1.0</td>\n",
       "      <td>1.0</td>\n",
       "    </tr>\n",
       "    <tr>\n",
       "      <th>1</th>\n",
       "      <td>2</td>\n",
       "      <td>15647311.0</td>\n",
       "      <td>1.0</td>\n",
       "      <td>608.0</td>\n",
       "      <td>83807.86</td>\n",
       "      <td>112542.58</td>\n",
       "      <td>2</td>\n",
       "      <td>1.0</td>\n",
       "      <td>0.0</td>\n",
       "      <td>1.0</td>\n",
       "    </tr>\n",
       "    <tr>\n",
       "      <th>2</th>\n",
       "      <td>3</td>\n",
       "      <td>15619304.0</td>\n",
       "      <td>8.0</td>\n",
       "      <td>502.0</td>\n",
       "      <td>159660.80</td>\n",
       "      <td>113931.57</td>\n",
       "      <td>3</td>\n",
       "      <td>3.0</td>\n",
       "      <td>1.0</td>\n",
       "      <td>0.0</td>\n",
       "    </tr>\n",
       "    <tr>\n",
       "      <th>3</th>\n",
       "      <td>4</td>\n",
       "      <td>15701354.0</td>\n",
       "      <td>1.0</td>\n",
       "      <td>699.0</td>\n",
       "      <td>0.00</td>\n",
       "      <td>93826.63</td>\n",
       "      <td>4</td>\n",
       "      <td>2.0</td>\n",
       "      <td>0.0</td>\n",
       "      <td>0.0</td>\n",
       "    </tr>\n",
       "    <tr>\n",
       "      <th>4</th>\n",
       "      <td>5</td>\n",
       "      <td>15737888.0</td>\n",
       "      <td>2.0</td>\n",
       "      <td>850.0</td>\n",
       "      <td>125510.82</td>\n",
       "      <td>79084.10</td>\n",
       "      <td>5</td>\n",
       "      <td>1.0</td>\n",
       "      <td>1.0</td>\n",
       "      <td>1.0</td>\n",
       "    </tr>\n",
       "  </tbody>\n",
       "</table>\n",
       "</div>"
      ],
      "text/plain": [
       "   RowNumber_x  CustomerId  Tenure  CreditScore    Balance  EstimatedSalary  \\\n",
       "0            1  15634602.0     2.0        619.0       0.00        101348.88   \n",
       "1            2  15647311.0     1.0        608.0   83807.86        112542.58   \n",
       "2            3  15619304.0     8.0        502.0  159660.80        113931.57   \n",
       "3            4  15701354.0     1.0        699.0       0.00         93826.63   \n",
       "4            5  15737888.0     2.0        850.0  125510.82         79084.10   \n",
       "\n",
       "   RowNumber_y  NumOfProducts  HasChckng  IsActiveMember  \n",
       "0            1            1.0        1.0             1.0  \n",
       "1            2            1.0        0.0             1.0  \n",
       "2            3            3.0        1.0             0.0  \n",
       "3            4            2.0        0.0             0.0  \n",
       "4            5            1.0        1.0             1.0  "
      ]
     },
     "execution_count": 68,
     "metadata": {},
     "output_type": "execute_result"
    }
   ],
   "source": [
    "cust_merge3 = pd.merge(cust_inv_df,cust_port_df,on='CustomerId')\n",
    "cust_merge3.head()"
   ]
  },
  {
   "cell_type": "code",
   "execution_count": 69,
   "id": "3fb82c42",
   "metadata": {},
   "outputs": [
    {
     "data": {
      "text/plain": [
       "RowNumber_x        10002\n",
       "CustomerId         10002\n",
       "Tenure             10002\n",
       "CreditScore        10002\n",
       "Balance            10002\n",
       "EstimatedSalary    10002\n",
       "RowNumber_y        10002\n",
       "NumOfProducts      10002\n",
       "HasChckng          10002\n",
       "IsActiveMember     10002\n",
       "dtype: int64"
      ]
     },
     "execution_count": 69,
     "metadata": {},
     "output_type": "execute_result"
    }
   ],
   "source": [
    "cust_merge3.count()"
   ]
  },
  {
   "cell_type": "code",
   "execution_count": 70,
   "id": "b8848fa2",
   "metadata": {},
   "outputs": [
    {
     "data": {
      "text/plain": [
       "RowNumber_x        0\n",
       "CustomerId         0\n",
       "Tenure             0\n",
       "CreditScore        0\n",
       "Balance            0\n",
       "EstimatedSalary    0\n",
       "RowNumber_y        0\n",
       "NumOfProducts      0\n",
       "HasChckng          0\n",
       "IsActiveMember     0\n",
       "dtype: int64"
      ]
     },
     "execution_count": 70,
     "metadata": {},
     "output_type": "execute_result"
    }
   ],
   "source": [
    "cust_merge3.isnull().sum()"
   ]
  },
  {
   "cell_type": "code",
   "execution_count": 73,
   "id": "4597dd3a",
   "metadata": {},
   "outputs": [],
   "source": [
    "cust_merge4 = pd.merge(cust_merge1,cust_merge3,on='CustomerId')"
   ]
  },
  {
   "cell_type": "code",
   "execution_count": 75,
   "id": "71fc9dd7",
   "metadata": {},
   "outputs": [
    {
     "data": {
      "text/html": [
       "<div>\n",
       "<style scoped>\n",
       "    .dataframe tbody tr th:only-of-type {\n",
       "        vertical-align: middle;\n",
       "    }\n",
       "\n",
       "    .dataframe tbody tr th {\n",
       "        vertical-align: top;\n",
       "    }\n",
       "\n",
       "    .dataframe thead th {\n",
       "        text-align: right;\n",
       "    }\n",
       "</style>\n",
       "<table border=\"1\" class=\"dataframe\">\n",
       "  <thead>\n",
       "    <tr style=\"text-align: right;\">\n",
       "      <th></th>\n",
       "      <th>RowNumber_x_x</th>\n",
       "      <th>CustomerId</th>\n",
       "      <th>Surname</th>\n",
       "      <th>Geography</th>\n",
       "      <th>Gender</th>\n",
       "      <th>Age</th>\n",
       "      <th>RowNumber_y_x</th>\n",
       "      <th>Exited</th>\n",
       "      <th>RowNumber_x_y</th>\n",
       "      <th>Tenure</th>\n",
       "      <th>CreditScore</th>\n",
       "      <th>Balance</th>\n",
       "      <th>EstimatedSalary</th>\n",
       "      <th>RowNumber_y_y</th>\n",
       "      <th>NumOfProducts</th>\n",
       "      <th>HasChckng</th>\n",
       "      <th>IsActiveMember</th>\n",
       "    </tr>\n",
       "  </thead>\n",
       "  <tbody>\n",
       "    <tr>\n",
       "      <th>0</th>\n",
       "      <td>1</td>\n",
       "      <td>15634602.0</td>\n",
       "      <td>Hargrave</td>\n",
       "      <td>West</td>\n",
       "      <td>Female</td>\n",
       "      <td>42.0</td>\n",
       "      <td>1</td>\n",
       "      <td>1.0</td>\n",
       "      <td>1</td>\n",
       "      <td>2.0</td>\n",
       "      <td>619.0</td>\n",
       "      <td>0.00</td>\n",
       "      <td>101348.88</td>\n",
       "      <td>1</td>\n",
       "      <td>1.0</td>\n",
       "      <td>1.0</td>\n",
       "      <td>1.0</td>\n",
       "    </tr>\n",
       "    <tr>\n",
       "      <th>1</th>\n",
       "      <td>2</td>\n",
       "      <td>15647311.0</td>\n",
       "      <td>Hill</td>\n",
       "      <td>Central</td>\n",
       "      <td>Female</td>\n",
       "      <td>41.0</td>\n",
       "      <td>2</td>\n",
       "      <td>0.0</td>\n",
       "      <td>2</td>\n",
       "      <td>1.0</td>\n",
       "      <td>608.0</td>\n",
       "      <td>83807.86</td>\n",
       "      <td>112542.58</td>\n",
       "      <td>2</td>\n",
       "      <td>1.0</td>\n",
       "      <td>0.0</td>\n",
       "      <td>1.0</td>\n",
       "    </tr>\n",
       "    <tr>\n",
       "      <th>2</th>\n",
       "      <td>3</td>\n",
       "      <td>15619304.0</td>\n",
       "      <td>Onio</td>\n",
       "      <td>West</td>\n",
       "      <td>Female</td>\n",
       "      <td>42.0</td>\n",
       "      <td>3</td>\n",
       "      <td>1.0</td>\n",
       "      <td>3</td>\n",
       "      <td>8.0</td>\n",
       "      <td>502.0</td>\n",
       "      <td>159660.80</td>\n",
       "      <td>113931.57</td>\n",
       "      <td>3</td>\n",
       "      <td>3.0</td>\n",
       "      <td>1.0</td>\n",
       "      <td>0.0</td>\n",
       "    </tr>\n",
       "    <tr>\n",
       "      <th>3</th>\n",
       "      <td>4</td>\n",
       "      <td>15701354.0</td>\n",
       "      <td>Boni</td>\n",
       "      <td>West</td>\n",
       "      <td>Female</td>\n",
       "      <td>39.0</td>\n",
       "      <td>4</td>\n",
       "      <td>0.0</td>\n",
       "      <td>4</td>\n",
       "      <td>1.0</td>\n",
       "      <td>699.0</td>\n",
       "      <td>0.00</td>\n",
       "      <td>93826.63</td>\n",
       "      <td>4</td>\n",
       "      <td>2.0</td>\n",
       "      <td>0.0</td>\n",
       "      <td>0.0</td>\n",
       "    </tr>\n",
       "    <tr>\n",
       "      <th>4</th>\n",
       "      <td>5</td>\n",
       "      <td>15737888.0</td>\n",
       "      <td>Mitchell</td>\n",
       "      <td>Central</td>\n",
       "      <td>Female</td>\n",
       "      <td>43.0</td>\n",
       "      <td>5</td>\n",
       "      <td>0.0</td>\n",
       "      <td>5</td>\n",
       "      <td>2.0</td>\n",
       "      <td>850.0</td>\n",
       "      <td>125510.82</td>\n",
       "      <td>79084.10</td>\n",
       "      <td>5</td>\n",
       "      <td>1.0</td>\n",
       "      <td>1.0</td>\n",
       "      <td>1.0</td>\n",
       "    </tr>\n",
       "  </tbody>\n",
       "</table>\n",
       "</div>"
      ],
      "text/plain": [
       "   RowNumber_x_x  CustomerId   Surname Geography  Gender   Age  RowNumber_y_x  \\\n",
       "0              1  15634602.0  Hargrave      West  Female  42.0              1   \n",
       "1              2  15647311.0      Hill   Central  Female  41.0              2   \n",
       "2              3  15619304.0      Onio      West  Female  42.0              3   \n",
       "3              4  15701354.0      Boni      West  Female  39.0              4   \n",
       "4              5  15737888.0  Mitchell   Central  Female  43.0              5   \n",
       "\n",
       "   Exited  RowNumber_x_y  Tenure  CreditScore    Balance  EstimatedSalary  \\\n",
       "0     1.0              1     2.0        619.0       0.00        101348.88   \n",
       "1     0.0              2     1.0        608.0   83807.86        112542.58   \n",
       "2     1.0              3     8.0        502.0  159660.80        113931.57   \n",
       "3     0.0              4     1.0        699.0       0.00         93826.63   \n",
       "4     0.0              5     2.0        850.0  125510.82         79084.10   \n",
       "\n",
       "   RowNumber_y_y  NumOfProducts  HasChckng  IsActiveMember  \n",
       "0              1            1.0        1.0             1.0  \n",
       "1              2            1.0        0.0             1.0  \n",
       "2              3            3.0        1.0             0.0  \n",
       "3              4            2.0        0.0             0.0  \n",
       "4              5            1.0        1.0             1.0  "
      ]
     },
     "execution_count": 75,
     "metadata": {},
     "output_type": "execute_result"
    }
   ],
   "source": [
    "cust_merge4.head()"
   ]
  },
  {
   "cell_type": "code",
   "execution_count": 76,
   "id": "dd668ec8",
   "metadata": {},
   "outputs": [
    {
     "data": {
      "text/plain": [
       "RowNumber_x_x      10002\n",
       "CustomerId         10002\n",
       "Surname            10002\n",
       "Geography          10002\n",
       "Gender             10002\n",
       "Age                10002\n",
       "RowNumber_y_x      10002\n",
       "Exited             10002\n",
       "RowNumber_x_y      10002\n",
       "Tenure             10002\n",
       "CreditScore        10002\n",
       "Balance            10002\n",
       "EstimatedSalary    10002\n",
       "RowNumber_y_y      10002\n",
       "NumOfProducts      10002\n",
       "HasChckng          10002\n",
       "IsActiveMember     10002\n",
       "dtype: int64"
      ]
     },
     "execution_count": 76,
     "metadata": {},
     "output_type": "execute_result"
    }
   ],
   "source": [
    "cust_merge4.count()"
   ]
  },
  {
   "cell_type": "code",
   "execution_count": 77,
   "id": "f936c53e",
   "metadata": {},
   "outputs": [
    {
     "data": {
      "text/plain": [
       "RowNumber_x_x      0\n",
       "CustomerId         0\n",
       "Surname            0\n",
       "Geography          0\n",
       "Gender             0\n",
       "Age                0\n",
       "RowNumber_y_x      0\n",
       "Exited             0\n",
       "RowNumber_x_y      0\n",
       "Tenure             0\n",
       "CreditScore        0\n",
       "Balance            0\n",
       "EstimatedSalary    0\n",
       "RowNumber_y_y      0\n",
       "NumOfProducts      0\n",
       "HasChckng          0\n",
       "IsActiveMember     0\n",
       "dtype: int64"
      ]
     },
     "execution_count": 77,
     "metadata": {},
     "output_type": "execute_result"
    }
   ],
   "source": [
    "cust_merge4.isnull().sum()"
   ]
  },
  {
   "cell_type": "code",
   "execution_count": 78,
   "id": "e1a340c8",
   "metadata": {},
   "outputs": [
    {
     "data": {
      "text/html": [
       "<div>\n",
       "<style scoped>\n",
       "    .dataframe tbody tr th:only-of-type {\n",
       "        vertical-align: middle;\n",
       "    }\n",
       "\n",
       "    .dataframe tbody tr th {\n",
       "        vertical-align: top;\n",
       "    }\n",
       "\n",
       "    .dataframe thead th {\n",
       "        text-align: right;\n",
       "    }\n",
       "</style>\n",
       "<table border=\"1\" class=\"dataframe\">\n",
       "  <thead>\n",
       "    <tr style=\"text-align: right;\">\n",
       "      <th></th>\n",
       "      <th>RowNumber_x_x</th>\n",
       "      <th>CustomerId</th>\n",
       "      <th>Surname</th>\n",
       "      <th>Geography</th>\n",
       "      <th>Gender</th>\n",
       "      <th>Age</th>\n",
       "      <th>RowNumber_y_x</th>\n",
       "      <th>Exited</th>\n",
       "      <th>RowNumber_x_y</th>\n",
       "      <th>Tenure</th>\n",
       "      <th>CreditScore</th>\n",
       "      <th>Balance</th>\n",
       "      <th>EstimatedSalary</th>\n",
       "      <th>RowNumber_y_y</th>\n",
       "      <th>NumOfProducts</th>\n",
       "      <th>HasChckng</th>\n",
       "      <th>IsActiveMember</th>\n",
       "    </tr>\n",
       "  </thead>\n",
       "  <tbody>\n",
       "    <tr>\n",
       "      <th>0</th>\n",
       "      <td>1</td>\n",
       "      <td>15634602.0</td>\n",
       "      <td>Hargrave</td>\n",
       "      <td>West</td>\n",
       "      <td>Female</td>\n",
       "      <td>42.0</td>\n",
       "      <td>1</td>\n",
       "      <td>1.0</td>\n",
       "      <td>1</td>\n",
       "      <td>2.0</td>\n",
       "      <td>619.0</td>\n",
       "      <td>0.00</td>\n",
       "      <td>101348.88</td>\n",
       "      <td>1</td>\n",
       "      <td>1.0</td>\n",
       "      <td>1.0</td>\n",
       "      <td>1.0</td>\n",
       "    </tr>\n",
       "    <tr>\n",
       "      <th>1</th>\n",
       "      <td>2</td>\n",
       "      <td>15647311.0</td>\n",
       "      <td>Hill</td>\n",
       "      <td>Central</td>\n",
       "      <td>Female</td>\n",
       "      <td>41.0</td>\n",
       "      <td>2</td>\n",
       "      <td>0.0</td>\n",
       "      <td>2</td>\n",
       "      <td>1.0</td>\n",
       "      <td>608.0</td>\n",
       "      <td>83807.86</td>\n",
       "      <td>112542.58</td>\n",
       "      <td>2</td>\n",
       "      <td>1.0</td>\n",
       "      <td>0.0</td>\n",
       "      <td>1.0</td>\n",
       "    </tr>\n",
       "    <tr>\n",
       "      <th>2</th>\n",
       "      <td>3</td>\n",
       "      <td>15619304.0</td>\n",
       "      <td>Onio</td>\n",
       "      <td>West</td>\n",
       "      <td>Female</td>\n",
       "      <td>42.0</td>\n",
       "      <td>3</td>\n",
       "      <td>1.0</td>\n",
       "      <td>3</td>\n",
       "      <td>8.0</td>\n",
       "      <td>502.0</td>\n",
       "      <td>159660.80</td>\n",
       "      <td>113931.57</td>\n",
       "      <td>3</td>\n",
       "      <td>3.0</td>\n",
       "      <td>1.0</td>\n",
       "      <td>0.0</td>\n",
       "    </tr>\n",
       "    <tr>\n",
       "      <th>3</th>\n",
       "      <td>4</td>\n",
       "      <td>15701354.0</td>\n",
       "      <td>Boni</td>\n",
       "      <td>West</td>\n",
       "      <td>Female</td>\n",
       "      <td>39.0</td>\n",
       "      <td>4</td>\n",
       "      <td>0.0</td>\n",
       "      <td>4</td>\n",
       "      <td>1.0</td>\n",
       "      <td>699.0</td>\n",
       "      <td>0.00</td>\n",
       "      <td>93826.63</td>\n",
       "      <td>4</td>\n",
       "      <td>2.0</td>\n",
       "      <td>0.0</td>\n",
       "      <td>0.0</td>\n",
       "    </tr>\n",
       "    <tr>\n",
       "      <th>4</th>\n",
       "      <td>5</td>\n",
       "      <td>15737888.0</td>\n",
       "      <td>Mitchell</td>\n",
       "      <td>Central</td>\n",
       "      <td>Female</td>\n",
       "      <td>43.0</td>\n",
       "      <td>5</td>\n",
       "      <td>0.0</td>\n",
       "      <td>5</td>\n",
       "      <td>2.0</td>\n",
       "      <td>850.0</td>\n",
       "      <td>125510.82</td>\n",
       "      <td>79084.10</td>\n",
       "      <td>5</td>\n",
       "      <td>1.0</td>\n",
       "      <td>1.0</td>\n",
       "      <td>1.0</td>\n",
       "    </tr>\n",
       "    <tr>\n",
       "      <th>...</th>\n",
       "      <td>...</td>\n",
       "      <td>...</td>\n",
       "      <td>...</td>\n",
       "      <td>...</td>\n",
       "      <td>...</td>\n",
       "      <td>...</td>\n",
       "      <td>...</td>\n",
       "      <td>...</td>\n",
       "      <td>...</td>\n",
       "      <td>...</td>\n",
       "      <td>...</td>\n",
       "      <td>...</td>\n",
       "      <td>...</td>\n",
       "      <td>...</td>\n",
       "      <td>...</td>\n",
       "      <td>...</td>\n",
       "      <td>...</td>\n",
       "    </tr>\n",
       "    <tr>\n",
       "      <th>9997</th>\n",
       "      <td>9996</td>\n",
       "      <td>15606229.0</td>\n",
       "      <td>Obijiaku</td>\n",
       "      <td>West</td>\n",
       "      <td>Male</td>\n",
       "      <td>39.0</td>\n",
       "      <td>9996</td>\n",
       "      <td>0.0</td>\n",
       "      <td>9996</td>\n",
       "      <td>5.0</td>\n",
       "      <td>771.0</td>\n",
       "      <td>0.00</td>\n",
       "      <td>96270.64</td>\n",
       "      <td>9996</td>\n",
       "      <td>2.0</td>\n",
       "      <td>1.0</td>\n",
       "      <td>0.0</td>\n",
       "    </tr>\n",
       "    <tr>\n",
       "      <th>9998</th>\n",
       "      <td>9997</td>\n",
       "      <td>15569892.0</td>\n",
       "      <td>Johnstone</td>\n",
       "      <td>West</td>\n",
       "      <td>Male</td>\n",
       "      <td>35.0</td>\n",
       "      <td>9997</td>\n",
       "      <td>0.0</td>\n",
       "      <td>9997</td>\n",
       "      <td>10.0</td>\n",
       "      <td>516.0</td>\n",
       "      <td>57369.61</td>\n",
       "      <td>101699.77</td>\n",
       "      <td>9997</td>\n",
       "      <td>1.0</td>\n",
       "      <td>1.0</td>\n",
       "      <td>1.0</td>\n",
       "    </tr>\n",
       "    <tr>\n",
       "      <th>9999</th>\n",
       "      <td>9998</td>\n",
       "      <td>15584532.0</td>\n",
       "      <td>Liu</td>\n",
       "      <td>West</td>\n",
       "      <td>Female</td>\n",
       "      <td>36.0</td>\n",
       "      <td>9998</td>\n",
       "      <td>1.0</td>\n",
       "      <td>9998</td>\n",
       "      <td>7.0</td>\n",
       "      <td>709.0</td>\n",
       "      <td>0.00</td>\n",
       "      <td>42085.58</td>\n",
       "      <td>9998</td>\n",
       "      <td>1.0</td>\n",
       "      <td>0.0</td>\n",
       "      <td>1.0</td>\n",
       "    </tr>\n",
       "    <tr>\n",
       "      <th>10000</th>\n",
       "      <td>9999</td>\n",
       "      <td>15682355.0</td>\n",
       "      <td>Sabbatini</td>\n",
       "      <td>East</td>\n",
       "      <td>Male</td>\n",
       "      <td>42.0</td>\n",
       "      <td>9999</td>\n",
       "      <td>1.0</td>\n",
       "      <td>9999</td>\n",
       "      <td>3.0</td>\n",
       "      <td>772.0</td>\n",
       "      <td>75075.31</td>\n",
       "      <td>92888.52</td>\n",
       "      <td>9999</td>\n",
       "      <td>2.0</td>\n",
       "      <td>1.0</td>\n",
       "      <td>0.0</td>\n",
       "    </tr>\n",
       "    <tr>\n",
       "      <th>10001</th>\n",
       "      <td>10000</td>\n",
       "      <td>15628319.0</td>\n",
       "      <td>Walker</td>\n",
       "      <td>West</td>\n",
       "      <td>Female</td>\n",
       "      <td>28.0</td>\n",
       "      <td>10000</td>\n",
       "      <td>0.0</td>\n",
       "      <td>10000</td>\n",
       "      <td>4.0</td>\n",
       "      <td>792.0</td>\n",
       "      <td>130142.79</td>\n",
       "      <td>38190.78</td>\n",
       "      <td>10000</td>\n",
       "      <td>1.0</td>\n",
       "      <td>1.0</td>\n",
       "      <td>0.0</td>\n",
       "    </tr>\n",
       "  </tbody>\n",
       "</table>\n",
       "<p>10000 rows × 17 columns</p>\n",
       "</div>"
      ],
      "text/plain": [
       "       RowNumber_x_x  CustomerId    Surname Geography  Gender   Age  \\\n",
       "0                  1  15634602.0   Hargrave      West  Female  42.0   \n",
       "1                  2  15647311.0       Hill   Central  Female  41.0   \n",
       "2                  3  15619304.0       Onio      West  Female  42.0   \n",
       "3                  4  15701354.0       Boni      West  Female  39.0   \n",
       "4                  5  15737888.0   Mitchell   Central  Female  43.0   \n",
       "...              ...         ...        ...       ...     ...   ...   \n",
       "9997            9996  15606229.0   Obijiaku      West    Male  39.0   \n",
       "9998            9997  15569892.0  Johnstone      West    Male  35.0   \n",
       "9999            9998  15584532.0        Liu      West  Female  36.0   \n",
       "10000           9999  15682355.0  Sabbatini      East    Male  42.0   \n",
       "10001          10000  15628319.0     Walker      West  Female  28.0   \n",
       "\n",
       "       RowNumber_y_x  Exited  RowNumber_x_y  Tenure  CreditScore    Balance  \\\n",
       "0                  1     1.0              1     2.0        619.0       0.00   \n",
       "1                  2     0.0              2     1.0        608.0   83807.86   \n",
       "2                  3     1.0              3     8.0        502.0  159660.80   \n",
       "3                  4     0.0              4     1.0        699.0       0.00   \n",
       "4                  5     0.0              5     2.0        850.0  125510.82   \n",
       "...              ...     ...            ...     ...          ...        ...   \n",
       "9997            9996     0.0           9996     5.0        771.0       0.00   \n",
       "9998            9997     0.0           9997    10.0        516.0   57369.61   \n",
       "9999            9998     1.0           9998     7.0        709.0       0.00   \n",
       "10000           9999     1.0           9999     3.0        772.0   75075.31   \n",
       "10001          10000     0.0          10000     4.0        792.0  130142.79   \n",
       "\n",
       "       EstimatedSalary  RowNumber_y_y  NumOfProducts  HasChckng  \\\n",
       "0            101348.88              1            1.0        1.0   \n",
       "1            112542.58              2            1.0        0.0   \n",
       "2            113931.57              3            3.0        1.0   \n",
       "3             93826.63              4            2.0        0.0   \n",
       "4             79084.10              5            1.0        1.0   \n",
       "...                ...            ...            ...        ...   \n",
       "9997          96270.64           9996            2.0        1.0   \n",
       "9998         101699.77           9997            1.0        1.0   \n",
       "9999          42085.58           9998            1.0        0.0   \n",
       "10000         92888.52           9999            2.0        1.0   \n",
       "10001         38190.78          10000            1.0        1.0   \n",
       "\n",
       "       IsActiveMember  \n",
       "0                 1.0  \n",
       "1                 1.0  \n",
       "2                 0.0  \n",
       "3                 0.0  \n",
       "4                 1.0  \n",
       "...               ...  \n",
       "9997              0.0  \n",
       "9998              1.0  \n",
       "9999              1.0  \n",
       "10000             0.0  \n",
       "10001             0.0  \n",
       "\n",
       "[10000 rows x 17 columns]"
      ]
     },
     "execution_count": 78,
     "metadata": {},
     "output_type": "execute_result"
    }
   ],
   "source": [
    "cust_merge4.drop_duplicates()"
   ]
  },
  {
   "cell_type": "code",
   "execution_count": 79,
   "id": "ec758d25",
   "metadata": {},
   "outputs": [
    {
     "name": "stdout",
     "output_type": "stream",
     "text": [
      "<class 'pandas.core.frame.DataFrame'>\n",
      "Int64Index: 10002 entries, 0 to 10001\n",
      "Data columns (total 17 columns):\n",
      " #   Column           Non-Null Count  Dtype  \n",
      "---  ------           --------------  -----  \n",
      " 0   RowNumber_x_x    10002 non-null  int64  \n",
      " 1   CustomerId       10002 non-null  float64\n",
      " 2   Surname          10002 non-null  object \n",
      " 3   Geography        10002 non-null  object \n",
      " 4   Gender           10002 non-null  object \n",
      " 5   Age              10002 non-null  float64\n",
      " 6   RowNumber_y_x    10002 non-null  int64  \n",
      " 7   Exited           10002 non-null  float64\n",
      " 8   RowNumber_x_y    10002 non-null  int64  \n",
      " 9   Tenure           10002 non-null  float64\n",
      " 10  CreditScore      10002 non-null  float64\n",
      " 11  Balance          10002 non-null  float64\n",
      " 12  EstimatedSalary  10002 non-null  float64\n",
      " 13  RowNumber_y_y    10002 non-null  int64  \n",
      " 14  NumOfProducts    10002 non-null  float64\n",
      " 15  HasChckng        10002 non-null  float64\n",
      " 16  IsActiveMember   10002 non-null  float64\n",
      "dtypes: float64(10), int64(4), object(3)\n",
      "memory usage: 1.4+ MB\n"
     ]
    }
   ],
   "source": [
    "cust_merge4.info()"
   ]
  },
  {
   "cell_type": "code",
   "execution_count": 80,
   "id": "ce899ea4",
   "metadata": {},
   "outputs": [],
   "source": [
    "cust_merge4.drop(columns = ['RowNumber_y_x','RowNumber_x_y','RowNumber_y_y'], inplace=True)"
   ]
  },
  {
   "cell_type": "markdown",
   "id": "539fd752",
   "metadata": {},
   "source": [
    "## Required Results for the Customer Churn Analysis Project"
   ]
  },
  {
   "cell_type": "code",
   "execution_count": 81,
   "id": "445c6437",
   "metadata": {},
   "outputs": [
    {
     "data": {
      "text/html": [
       "<div>\n",
       "<style scoped>\n",
       "    .dataframe tbody tr th:only-of-type {\n",
       "        vertical-align: middle;\n",
       "    }\n",
       "\n",
       "    .dataframe tbody tr th {\n",
       "        vertical-align: top;\n",
       "    }\n",
       "\n",
       "    .dataframe thead th {\n",
       "        text-align: right;\n",
       "    }\n",
       "</style>\n",
       "<table border=\"1\" class=\"dataframe\">\n",
       "  <thead>\n",
       "    <tr style=\"text-align: right;\">\n",
       "      <th></th>\n",
       "      <th>RowNumber_x_x</th>\n",
       "      <th>CustomerId</th>\n",
       "      <th>Surname</th>\n",
       "      <th>Geography</th>\n",
       "      <th>Gender</th>\n",
       "      <th>Age</th>\n",
       "      <th>Exited</th>\n",
       "      <th>Tenure</th>\n",
       "      <th>CreditScore</th>\n",
       "      <th>Balance</th>\n",
       "      <th>EstimatedSalary</th>\n",
       "      <th>NumOfProducts</th>\n",
       "      <th>HasChckng</th>\n",
       "      <th>IsActiveMember</th>\n",
       "    </tr>\n",
       "  </thead>\n",
       "  <tbody>\n",
       "    <tr>\n",
       "      <th>0</th>\n",
       "      <td>1</td>\n",
       "      <td>15634602.0</td>\n",
       "      <td>Hargrave</td>\n",
       "      <td>West</td>\n",
       "      <td>Female</td>\n",
       "      <td>42.0</td>\n",
       "      <td>1.0</td>\n",
       "      <td>2.0</td>\n",
       "      <td>619.0</td>\n",
       "      <td>0.00</td>\n",
       "      <td>101348.88</td>\n",
       "      <td>1.0</td>\n",
       "      <td>1.0</td>\n",
       "      <td>1.0</td>\n",
       "    </tr>\n",
       "    <tr>\n",
       "      <th>1</th>\n",
       "      <td>2</td>\n",
       "      <td>15647311.0</td>\n",
       "      <td>Hill</td>\n",
       "      <td>Central</td>\n",
       "      <td>Female</td>\n",
       "      <td>41.0</td>\n",
       "      <td>0.0</td>\n",
       "      <td>1.0</td>\n",
       "      <td>608.0</td>\n",
       "      <td>83807.86</td>\n",
       "      <td>112542.58</td>\n",
       "      <td>1.0</td>\n",
       "      <td>0.0</td>\n",
       "      <td>1.0</td>\n",
       "    </tr>\n",
       "    <tr>\n",
       "      <th>2</th>\n",
       "      <td>3</td>\n",
       "      <td>15619304.0</td>\n",
       "      <td>Onio</td>\n",
       "      <td>West</td>\n",
       "      <td>Female</td>\n",
       "      <td>42.0</td>\n",
       "      <td>1.0</td>\n",
       "      <td>8.0</td>\n",
       "      <td>502.0</td>\n",
       "      <td>159660.80</td>\n",
       "      <td>113931.57</td>\n",
       "      <td>3.0</td>\n",
       "      <td>1.0</td>\n",
       "      <td>0.0</td>\n",
       "    </tr>\n",
       "    <tr>\n",
       "      <th>3</th>\n",
       "      <td>4</td>\n",
       "      <td>15701354.0</td>\n",
       "      <td>Boni</td>\n",
       "      <td>West</td>\n",
       "      <td>Female</td>\n",
       "      <td>39.0</td>\n",
       "      <td>0.0</td>\n",
       "      <td>1.0</td>\n",
       "      <td>699.0</td>\n",
       "      <td>0.00</td>\n",
       "      <td>93826.63</td>\n",
       "      <td>2.0</td>\n",
       "      <td>0.0</td>\n",
       "      <td>0.0</td>\n",
       "    </tr>\n",
       "    <tr>\n",
       "      <th>4</th>\n",
       "      <td>5</td>\n",
       "      <td>15737888.0</td>\n",
       "      <td>Mitchell</td>\n",
       "      <td>Central</td>\n",
       "      <td>Female</td>\n",
       "      <td>43.0</td>\n",
       "      <td>0.0</td>\n",
       "      <td>2.0</td>\n",
       "      <td>850.0</td>\n",
       "      <td>125510.82</td>\n",
       "      <td>79084.10</td>\n",
       "      <td>1.0</td>\n",
       "      <td>1.0</td>\n",
       "      <td>1.0</td>\n",
       "    </tr>\n",
       "    <tr>\n",
       "      <th>...</th>\n",
       "      <td>...</td>\n",
       "      <td>...</td>\n",
       "      <td>...</td>\n",
       "      <td>...</td>\n",
       "      <td>...</td>\n",
       "      <td>...</td>\n",
       "      <td>...</td>\n",
       "      <td>...</td>\n",
       "      <td>...</td>\n",
       "      <td>...</td>\n",
       "      <td>...</td>\n",
       "      <td>...</td>\n",
       "      <td>...</td>\n",
       "      <td>...</td>\n",
       "    </tr>\n",
       "    <tr>\n",
       "      <th>9997</th>\n",
       "      <td>9996</td>\n",
       "      <td>15606229.0</td>\n",
       "      <td>Obijiaku</td>\n",
       "      <td>West</td>\n",
       "      <td>Male</td>\n",
       "      <td>39.0</td>\n",
       "      <td>0.0</td>\n",
       "      <td>5.0</td>\n",
       "      <td>771.0</td>\n",
       "      <td>0.00</td>\n",
       "      <td>96270.64</td>\n",
       "      <td>2.0</td>\n",
       "      <td>1.0</td>\n",
       "      <td>0.0</td>\n",
       "    </tr>\n",
       "    <tr>\n",
       "      <th>9998</th>\n",
       "      <td>9997</td>\n",
       "      <td>15569892.0</td>\n",
       "      <td>Johnstone</td>\n",
       "      <td>West</td>\n",
       "      <td>Male</td>\n",
       "      <td>35.0</td>\n",
       "      <td>0.0</td>\n",
       "      <td>10.0</td>\n",
       "      <td>516.0</td>\n",
       "      <td>57369.61</td>\n",
       "      <td>101699.77</td>\n",
       "      <td>1.0</td>\n",
       "      <td>1.0</td>\n",
       "      <td>1.0</td>\n",
       "    </tr>\n",
       "    <tr>\n",
       "      <th>9999</th>\n",
       "      <td>9998</td>\n",
       "      <td>15584532.0</td>\n",
       "      <td>Liu</td>\n",
       "      <td>West</td>\n",
       "      <td>Female</td>\n",
       "      <td>36.0</td>\n",
       "      <td>1.0</td>\n",
       "      <td>7.0</td>\n",
       "      <td>709.0</td>\n",
       "      <td>0.00</td>\n",
       "      <td>42085.58</td>\n",
       "      <td>1.0</td>\n",
       "      <td>0.0</td>\n",
       "      <td>1.0</td>\n",
       "    </tr>\n",
       "    <tr>\n",
       "      <th>10000</th>\n",
       "      <td>9999</td>\n",
       "      <td>15682355.0</td>\n",
       "      <td>Sabbatini</td>\n",
       "      <td>East</td>\n",
       "      <td>Male</td>\n",
       "      <td>42.0</td>\n",
       "      <td>1.0</td>\n",
       "      <td>3.0</td>\n",
       "      <td>772.0</td>\n",
       "      <td>75075.31</td>\n",
       "      <td>92888.52</td>\n",
       "      <td>2.0</td>\n",
       "      <td>1.0</td>\n",
       "      <td>0.0</td>\n",
       "    </tr>\n",
       "    <tr>\n",
       "      <th>10001</th>\n",
       "      <td>10000</td>\n",
       "      <td>15628319.0</td>\n",
       "      <td>Walker</td>\n",
       "      <td>West</td>\n",
       "      <td>Female</td>\n",
       "      <td>28.0</td>\n",
       "      <td>0.0</td>\n",
       "      <td>4.0</td>\n",
       "      <td>792.0</td>\n",
       "      <td>130142.79</td>\n",
       "      <td>38190.78</td>\n",
       "      <td>1.0</td>\n",
       "      <td>1.0</td>\n",
       "      <td>0.0</td>\n",
       "    </tr>\n",
       "  </tbody>\n",
       "</table>\n",
       "<p>10002 rows × 14 columns</p>\n",
       "</div>"
      ],
      "text/plain": [
       "       RowNumber_x_x  CustomerId    Surname Geography  Gender   Age  Exited  \\\n",
       "0                  1  15634602.0   Hargrave      West  Female  42.0     1.0   \n",
       "1                  2  15647311.0       Hill   Central  Female  41.0     0.0   \n",
       "2                  3  15619304.0       Onio      West  Female  42.0     1.0   \n",
       "3                  4  15701354.0       Boni      West  Female  39.0     0.0   \n",
       "4                  5  15737888.0   Mitchell   Central  Female  43.0     0.0   \n",
       "...              ...         ...        ...       ...     ...   ...     ...   \n",
       "9997            9996  15606229.0   Obijiaku      West    Male  39.0     0.0   \n",
       "9998            9997  15569892.0  Johnstone      West    Male  35.0     0.0   \n",
       "9999            9998  15584532.0        Liu      West  Female  36.0     1.0   \n",
       "10000           9999  15682355.0  Sabbatini      East    Male  42.0     1.0   \n",
       "10001          10000  15628319.0     Walker      West  Female  28.0     0.0   \n",
       "\n",
       "       Tenure  CreditScore    Balance  EstimatedSalary  NumOfProducts  \\\n",
       "0         2.0        619.0       0.00        101348.88            1.0   \n",
       "1         1.0        608.0   83807.86        112542.58            1.0   \n",
       "2         8.0        502.0  159660.80        113931.57            3.0   \n",
       "3         1.0        699.0       0.00         93826.63            2.0   \n",
       "4         2.0        850.0  125510.82         79084.10            1.0   \n",
       "...       ...          ...        ...              ...            ...   \n",
       "9997      5.0        771.0       0.00         96270.64            2.0   \n",
       "9998     10.0        516.0   57369.61        101699.77            1.0   \n",
       "9999      7.0        709.0       0.00         42085.58            1.0   \n",
       "10000     3.0        772.0   75075.31         92888.52            2.0   \n",
       "10001     4.0        792.0  130142.79         38190.78            1.0   \n",
       "\n",
       "       HasChckng  IsActiveMember  \n",
       "0            1.0             1.0  \n",
       "1            0.0             1.0  \n",
       "2            1.0             0.0  \n",
       "3            0.0             0.0  \n",
       "4            1.0             1.0  \n",
       "...          ...             ...  \n",
       "9997         1.0             0.0  \n",
       "9998         1.0             1.0  \n",
       "9999         0.0             1.0  \n",
       "10000        1.0             0.0  \n",
       "10001        1.0             0.0  \n",
       "\n",
       "[10002 rows x 14 columns]"
      ]
     },
     "execution_count": 81,
     "metadata": {},
     "output_type": "execute_result"
    }
   ],
   "source": [
    "cust_merge4"
   ]
  },
  {
   "cell_type": "code",
   "execution_count": 82,
   "id": "e1d9eca9",
   "metadata": {},
   "outputs": [
    {
     "data": {
      "text/html": [
       "<div>\n",
       "<style scoped>\n",
       "    .dataframe tbody tr th:only-of-type {\n",
       "        vertical-align: middle;\n",
       "    }\n",
       "\n",
       "    .dataframe tbody tr th {\n",
       "        vertical-align: top;\n",
       "    }\n",
       "\n",
       "    .dataframe thead th {\n",
       "        text-align: right;\n",
       "    }\n",
       "</style>\n",
       "<table border=\"1\" class=\"dataframe\">\n",
       "  <thead>\n",
       "    <tr style=\"text-align: right;\">\n",
       "      <th></th>\n",
       "      <th>count</th>\n",
       "      <th>mean</th>\n",
       "      <th>std</th>\n",
       "      <th>min</th>\n",
       "      <th>25%</th>\n",
       "      <th>50%</th>\n",
       "      <th>75%</th>\n",
       "      <th>max</th>\n",
       "    </tr>\n",
       "  </thead>\n",
       "  <tbody>\n",
       "    <tr>\n",
       "      <th>RowNumber_x_x</th>\n",
       "      <td>10002.0</td>\n",
       "      <td>5.000032e+03</td>\n",
       "      <td>2886.796875</td>\n",
       "      <td>1.00</td>\n",
       "      <td>2.501250e+03</td>\n",
       "      <td>4999.50</td>\n",
       "      <td>7.499750e+03</td>\n",
       "      <td>10000.00</td>\n",
       "    </tr>\n",
       "    <tr>\n",
       "      <th>CustomerId</th>\n",
       "      <td>10002.0</td>\n",
       "      <td>1.569097e+07</td>\n",
       "      <td>71950.549657</td>\n",
       "      <td>15565701.00</td>\n",
       "      <td>1.562854e+07</td>\n",
       "      <td>15690743.50</td>\n",
       "      <td>1.575331e+07</td>\n",
       "      <td>15815690.00</td>\n",
       "    </tr>\n",
       "    <tr>\n",
       "      <th>Age</th>\n",
       "      <td>10002.0</td>\n",
       "      <td>3.894371e+01</td>\n",
       "      <td>10.612675</td>\n",
       "      <td>18.00</td>\n",
       "      <td>3.200000e+01</td>\n",
       "      <td>37.00</td>\n",
       "      <td>4.400000e+01</td>\n",
       "      <td>190.00</td>\n",
       "    </tr>\n",
       "    <tr>\n",
       "      <th>Exited</th>\n",
       "      <td>10002.0</td>\n",
       "      <td>2.038592e-01</td>\n",
       "      <td>0.402886</td>\n",
       "      <td>0.00</td>\n",
       "      <td>0.000000e+00</td>\n",
       "      <td>0.00</td>\n",
       "      <td>0.000000e+00</td>\n",
       "      <td>1.00</td>\n",
       "    </tr>\n",
       "    <tr>\n",
       "      <th>Tenure</th>\n",
       "      <td>10002.0</td>\n",
       "      <td>5.014797e+00</td>\n",
       "      <td>2.902953</td>\n",
       "      <td>0.00</td>\n",
       "      <td>3.000000e+00</td>\n",
       "      <td>5.00</td>\n",
       "      <td>7.000000e+00</td>\n",
       "      <td>30.00</td>\n",
       "    </tr>\n",
       "    <tr>\n",
       "      <th>CreditScore</th>\n",
       "      <td>10002.0</td>\n",
       "      <td>6.505007e+02</td>\n",
       "      <td>96.684816</td>\n",
       "      <td>305.00</td>\n",
       "      <td>5.840000e+02</td>\n",
       "      <td>652.00</td>\n",
       "      <td>7.170000e+02</td>\n",
       "      <td>865.00</td>\n",
       "    </tr>\n",
       "    <tr>\n",
       "      <th>Balance</th>\n",
       "      <td>10002.0</td>\n",
       "      <td>7.650358e+04</td>\n",
       "      <td>62403.703743</td>\n",
       "      <td>0.00</td>\n",
       "      <td>0.000000e+00</td>\n",
       "      <td>97221.52</td>\n",
       "      <td>1.276538e+05</td>\n",
       "      <td>250898.09</td>\n",
       "    </tr>\n",
       "    <tr>\n",
       "      <th>EstimatedSalary</th>\n",
       "      <td>10002.0</td>\n",
       "      <td>1.001056e+05</td>\n",
       "      <td>57515.031841</td>\n",
       "      <td>11.58</td>\n",
       "      <td>5.101247e+04</td>\n",
       "      <td>100218.21</td>\n",
       "      <td>1.494009e+05</td>\n",
       "      <td>199992.48</td>\n",
       "    </tr>\n",
       "    <tr>\n",
       "      <th>NumOfProducts</th>\n",
       "      <td>10002.0</td>\n",
       "      <td>1.530494e+00</td>\n",
       "      <td>0.581967</td>\n",
       "      <td>1.00</td>\n",
       "      <td>1.000000e+00</td>\n",
       "      <td>1.00</td>\n",
       "      <td>2.000000e+00</td>\n",
       "      <td>4.00</td>\n",
       "    </tr>\n",
       "    <tr>\n",
       "      <th>HasChckng</th>\n",
       "      <td>10002.0</td>\n",
       "      <td>7.053589e-01</td>\n",
       "      <td>0.455904</td>\n",
       "      <td>0.00</td>\n",
       "      <td>0.000000e+00</td>\n",
       "      <td>1.00</td>\n",
       "      <td>1.000000e+00</td>\n",
       "      <td>1.00</td>\n",
       "    </tr>\n",
       "    <tr>\n",
       "      <th>IsActiveMember</th>\n",
       "      <td>10002.0</td>\n",
       "      <td>5.149970e-01</td>\n",
       "      <td>0.499800</td>\n",
       "      <td>0.00</td>\n",
       "      <td>0.000000e+00</td>\n",
       "      <td>1.00</td>\n",
       "      <td>1.000000e+00</td>\n",
       "      <td>1.00</td>\n",
       "    </tr>\n",
       "  </tbody>\n",
       "</table>\n",
       "</div>"
      ],
      "text/plain": [
       "                   count          mean           std          min  \\\n",
       "RowNumber_x_x    10002.0  5.000032e+03   2886.796875         1.00   \n",
       "CustomerId       10002.0  1.569097e+07  71950.549657  15565701.00   \n",
       "Age              10002.0  3.894371e+01     10.612675        18.00   \n",
       "Exited           10002.0  2.038592e-01      0.402886         0.00   \n",
       "Tenure           10002.0  5.014797e+00      2.902953         0.00   \n",
       "CreditScore      10002.0  6.505007e+02     96.684816       305.00   \n",
       "Balance          10002.0  7.650358e+04  62403.703743         0.00   \n",
       "EstimatedSalary  10002.0  1.001056e+05  57515.031841        11.58   \n",
       "NumOfProducts    10002.0  1.530494e+00      0.581967         1.00   \n",
       "HasChckng        10002.0  7.053589e-01      0.455904         0.00   \n",
       "IsActiveMember   10002.0  5.149970e-01      0.499800         0.00   \n",
       "\n",
       "                          25%          50%           75%          max  \n",
       "RowNumber_x_x    2.501250e+03      4999.50  7.499750e+03     10000.00  \n",
       "CustomerId       1.562854e+07  15690743.50  1.575331e+07  15815690.00  \n",
       "Age              3.200000e+01        37.00  4.400000e+01       190.00  \n",
       "Exited           0.000000e+00         0.00  0.000000e+00         1.00  \n",
       "Tenure           3.000000e+00         5.00  7.000000e+00        30.00  \n",
       "CreditScore      5.840000e+02       652.00  7.170000e+02       865.00  \n",
       "Balance          0.000000e+00     97221.52  1.276538e+05    250898.09  \n",
       "EstimatedSalary  5.101247e+04    100218.21  1.494009e+05    199992.48  \n",
       "NumOfProducts    1.000000e+00         1.00  2.000000e+00         4.00  \n",
       "HasChckng        0.000000e+00         1.00  1.000000e+00         1.00  \n",
       "IsActiveMember   0.000000e+00         1.00  1.000000e+00         1.00  "
      ]
     },
     "execution_count": 82,
     "metadata": {},
     "output_type": "execute_result"
    }
   ],
   "source": [
    "cust_merge4.describe().T"
   ]
  },
  {
   "cell_type": "code",
   "execution_count": 83,
   "id": "349bdcff",
   "metadata": {},
   "outputs": [
    {
     "data": {
      "text/html": [
       "<div>\n",
       "<style scoped>\n",
       "    .dataframe tbody tr th:only-of-type {\n",
       "        vertical-align: middle;\n",
       "    }\n",
       "\n",
       "    .dataframe tbody tr th {\n",
       "        vertical-align: top;\n",
       "    }\n",
       "\n",
       "    .dataframe thead th {\n",
       "        text-align: right;\n",
       "    }\n",
       "</style>\n",
       "<table border=\"1\" class=\"dataframe\">\n",
       "  <thead>\n",
       "    <tr style=\"text-align: right;\">\n",
       "      <th></th>\n",
       "      <th>count</th>\n",
       "      <th>mean</th>\n",
       "      <th>std</th>\n",
       "      <th>min</th>\n",
       "      <th>25%</th>\n",
       "      <th>50%</th>\n",
       "      <th>75%</th>\n",
       "      <th>max</th>\n",
       "    </tr>\n",
       "  </thead>\n",
       "  <tbody>\n",
       "    <tr>\n",
       "      <th>RowNumber_x_x</th>\n",
       "      <td>10002.0</td>\n",
       "      <td>5.000032e+03</td>\n",
       "      <td>2886.796875</td>\n",
       "      <td>1.00</td>\n",
       "      <td>2.501250e+03</td>\n",
       "      <td>4999.50</td>\n",
       "      <td>7.499750e+03</td>\n",
       "      <td>10000.00</td>\n",
       "    </tr>\n",
       "    <tr>\n",
       "      <th>CustomerId</th>\n",
       "      <td>10002.0</td>\n",
       "      <td>1.569097e+07</td>\n",
       "      <td>71950.549657</td>\n",
       "      <td>15565701.00</td>\n",
       "      <td>1.562854e+07</td>\n",
       "      <td>15690743.50</td>\n",
       "      <td>1.575331e+07</td>\n",
       "      <td>15815690.00</td>\n",
       "    </tr>\n",
       "    <tr>\n",
       "      <th>Age</th>\n",
       "      <td>10002.0</td>\n",
       "      <td>3.894371e+01</td>\n",
       "      <td>10.612675</td>\n",
       "      <td>18.00</td>\n",
       "      <td>3.200000e+01</td>\n",
       "      <td>37.00</td>\n",
       "      <td>4.400000e+01</td>\n",
       "      <td>190.00</td>\n",
       "    </tr>\n",
       "    <tr>\n",
       "      <th>Exited</th>\n",
       "      <td>10002.0</td>\n",
       "      <td>2.038592e-01</td>\n",
       "      <td>0.402886</td>\n",
       "      <td>0.00</td>\n",
       "      <td>0.000000e+00</td>\n",
       "      <td>0.00</td>\n",
       "      <td>0.000000e+00</td>\n",
       "      <td>1.00</td>\n",
       "    </tr>\n",
       "    <tr>\n",
       "      <th>Tenure</th>\n",
       "      <td>10002.0</td>\n",
       "      <td>5.014797e+00</td>\n",
       "      <td>2.902953</td>\n",
       "      <td>0.00</td>\n",
       "      <td>3.000000e+00</td>\n",
       "      <td>5.00</td>\n",
       "      <td>7.000000e+00</td>\n",
       "      <td>30.00</td>\n",
       "    </tr>\n",
       "    <tr>\n",
       "      <th>CreditScore</th>\n",
       "      <td>10002.0</td>\n",
       "      <td>6.505007e+02</td>\n",
       "      <td>96.684816</td>\n",
       "      <td>305.00</td>\n",
       "      <td>5.840000e+02</td>\n",
       "      <td>652.00</td>\n",
       "      <td>7.170000e+02</td>\n",
       "      <td>865.00</td>\n",
       "    </tr>\n",
       "    <tr>\n",
       "      <th>Balance</th>\n",
       "      <td>10002.0</td>\n",
       "      <td>7.650358e+04</td>\n",
       "      <td>62403.703743</td>\n",
       "      <td>0.00</td>\n",
       "      <td>0.000000e+00</td>\n",
       "      <td>97221.52</td>\n",
       "      <td>1.276538e+05</td>\n",
       "      <td>250898.09</td>\n",
       "    </tr>\n",
       "    <tr>\n",
       "      <th>EstimatedSalary</th>\n",
       "      <td>10002.0</td>\n",
       "      <td>1.001056e+05</td>\n",
       "      <td>57515.031841</td>\n",
       "      <td>11.58</td>\n",
       "      <td>5.101247e+04</td>\n",
       "      <td>100218.21</td>\n",
       "      <td>1.494009e+05</td>\n",
       "      <td>199992.48</td>\n",
       "    </tr>\n",
       "    <tr>\n",
       "      <th>NumOfProducts</th>\n",
       "      <td>10002.0</td>\n",
       "      <td>1.530494e+00</td>\n",
       "      <td>0.581967</td>\n",
       "      <td>1.00</td>\n",
       "      <td>1.000000e+00</td>\n",
       "      <td>1.00</td>\n",
       "      <td>2.000000e+00</td>\n",
       "      <td>4.00</td>\n",
       "    </tr>\n",
       "    <tr>\n",
       "      <th>HasChckng</th>\n",
       "      <td>10002.0</td>\n",
       "      <td>7.053589e-01</td>\n",
       "      <td>0.455904</td>\n",
       "      <td>0.00</td>\n",
       "      <td>0.000000e+00</td>\n",
       "      <td>1.00</td>\n",
       "      <td>1.000000e+00</td>\n",
       "      <td>1.00</td>\n",
       "    </tr>\n",
       "    <tr>\n",
       "      <th>IsActiveMember</th>\n",
       "      <td>10002.0</td>\n",
       "      <td>5.149970e-01</td>\n",
       "      <td>0.499800</td>\n",
       "      <td>0.00</td>\n",
       "      <td>0.000000e+00</td>\n",
       "      <td>1.00</td>\n",
       "      <td>1.000000e+00</td>\n",
       "      <td>1.00</td>\n",
       "    </tr>\n",
       "  </tbody>\n",
       "</table>\n",
       "</div>"
      ],
      "text/plain": [
       "                   count          mean           std          min  \\\n",
       "RowNumber_x_x    10002.0  5.000032e+03   2886.796875         1.00   \n",
       "CustomerId       10002.0  1.569097e+07  71950.549657  15565701.00   \n",
       "Age              10002.0  3.894371e+01     10.612675        18.00   \n",
       "Exited           10002.0  2.038592e-01      0.402886         0.00   \n",
       "Tenure           10002.0  5.014797e+00      2.902953         0.00   \n",
       "CreditScore      10002.0  6.505007e+02     96.684816       305.00   \n",
       "Balance          10002.0  7.650358e+04  62403.703743         0.00   \n",
       "EstimatedSalary  10002.0  1.001056e+05  57515.031841        11.58   \n",
       "NumOfProducts    10002.0  1.530494e+00      0.581967         1.00   \n",
       "HasChckng        10002.0  7.053589e-01      0.455904         0.00   \n",
       "IsActiveMember   10002.0  5.149970e-01      0.499800         0.00   \n",
       "\n",
       "                          25%          50%           75%          max  \n",
       "RowNumber_x_x    2.501250e+03      4999.50  7.499750e+03     10000.00  \n",
       "CustomerId       1.562854e+07  15690743.50  1.575331e+07  15815690.00  \n",
       "Age              3.200000e+01        37.00  4.400000e+01       190.00  \n",
       "Exited           0.000000e+00         0.00  0.000000e+00         1.00  \n",
       "Tenure           3.000000e+00         5.00  7.000000e+00        30.00  \n",
       "CreditScore      5.840000e+02       652.00  7.170000e+02       865.00  \n",
       "Balance          0.000000e+00     97221.52  1.276538e+05    250898.09  \n",
       "EstimatedSalary  5.101247e+04    100218.21  1.494009e+05    199992.48  \n",
       "NumOfProducts    1.000000e+00         1.00  2.000000e+00         4.00  \n",
       "HasChckng        0.000000e+00         1.00  1.000000e+00         1.00  \n",
       "IsActiveMember   0.000000e+00         1.00  1.000000e+00         1.00  "
      ]
     },
     "execution_count": 83,
     "metadata": {},
     "output_type": "execute_result"
    }
   ],
   "source": [
    "cust_merge4.describe().T"
   ]
  },
  {
   "cell_type": "code",
   "execution_count": 84,
   "id": "4b38f9ef",
   "metadata": {},
   "outputs": [
    {
     "data": {
      "text/plain": [
       "<AxesSubplot:xlabel='Geography', ylabel='count'>"
      ]
     },
     "execution_count": 84,
     "metadata": {},
     "output_type": "execute_result"
    },
    {
     "data": {
      "image/png": "[encoded data removed]",
      "text/plain": [
       "<Figure size 432x288 with 1 Axes>"
      ]
     },
     "metadata": {
      "needs_background": "light"
     },
     "output_type": "display_data"
    }
   ],
   "source": [
    "#Overall Distribution\n",
    "sns.countplot(x=\"Geography\",data=cust_merge4)"
   ]
  },
  {
   "cell_type": "markdown",
   "id": "850dfc47",
   "metadata": {},
   "source": [
    "## Required Results for the Customer Churn Analysis Project"
   ]
  },
  {
   "cell_type": "code",
   "execution_count": 85,
   "id": "6014061e",
   "metadata": {},
   "outputs": [
    {
     "data": {
      "text/plain": [
       "<AxesSubplot:xlabel='Geography', ylabel='count'>"
      ]
     },
     "execution_count": 85,
     "metadata": {},
     "output_type": "execute_result"
    },
    {
     "data": {
      "image/png": "[encoded data removed]",
      "text/plain": [
       "<Figure size 432x288 with 1 Axes>"
      ]
     },
     "metadata": {
      "needs_background": "light"
     },
     "output_type": "display_data"
    }
   ],
   "source": [
    "# Required Output for the exercise\n",
    "sns.countplot(x=\"Geography\",data=cust_merge4, hue= \"Exited\")\n",
    "#Bar plot: sns.barplot(x=\" column on x\", y=\" column on y\",hue=\"legends \")\n",
    "#Box plot: sns.boxplot(data=df, x=\"Column name\")\n"
   ]
  },
  {
   "cell_type": "code",
   "execution_count": 86,
   "id": "3a03ab39",
   "metadata": {},
   "outputs": [
    {
     "data": {
      "text/plain": [
       "<AxesSubplot:xlabel='Gender', ylabel='count'>"
      ]
     },
     "execution_count": 86,
     "metadata": {},
     "output_type": "execute_result"
    },
    {
     "data": {
      "image/png": "[encoded data removed]",
      "text/plain": [
       "<Figure size 432x288 with 1 Axes>"
      ]
     },
     "metadata": {
      "needs_background": "light"
     },
     "output_type": "display_data"
    }
   ],
   "source": [
    "sns.countplot(x=\"Gender\",data=cust_merge4, hue= \"Exited\")"
   ]
  },
  {
   "cell_type": "code",
   "execution_count": 87,
   "id": "df7846ae",
   "metadata": {},
   "outputs": [
    {
     "data": {
      "text/plain": [
       "<seaborn.axisgrid.FacetGrid at 0x14d4915c100>"
      ]
     },
     "execution_count": 87,
     "metadata": {},
     "output_type": "execute_result"
    },
    {
     "data": {
      "image/png": "[encoded data removed]",
      "text/plain": [
       "<Figure size 720x360 with 2 Axes>"
      ]
     },
     "metadata": {
      "needs_background": "light"
     },
     "output_type": "display_data"
    }
   ],
   "source": [
    "sns.displot(cust_merge4, x=\"CreditScore\", col=\"Exited\")"
   ]
  },
  {
   "cell_type": "code",
   "execution_count": 88,
   "id": "dddddab1",
   "metadata": {},
   "outputs": [
    {
     "data": {
      "text/plain": [
       "<seaborn.axisgrid.FacetGrid at 0x14d4a6056a0>"
      ]
     },
     "execution_count": 88,
     "metadata": {},
     "output_type": "execute_result"
    },
    {
     "data": {
      "image/png": "[encoded data removed]",
      "text/plain": [
       "<Figure size 1132x360 with 3 Axes>"
      ]
     },
     "metadata": {
      "needs_background": "light"
     },
     "output_type": "display_data"
    }
   ],
   "source": [
    "sns.displot(cust_merge4, x=\"Age\", col=\"Gender\",hue = 'Exited')"
   ]
  },
  {
   "cell_type": "code",
   "execution_count": 89,
   "id": "1e1e76a3",
   "metadata": {},
   "outputs": [
    {
     "data": {
      "text/plain": [
       "<AxesSubplot:xlabel='HasChckng', ylabel='EstimatedSalary'>"
      ]
     },
     "execution_count": 89,
     "metadata": {},
     "output_type": "execute_result"
    },
    {
     "data": {
      "image/png": "[encoded data removed]",
      "text/plain": [
       "<Figure size 432x288 with 1 Axes>"
      ]
     },
     "metadata": {
      "needs_background": "light"
     },
     "output_type": "display_data"
    }
   ],
   "source": [
    "# Based on Salary vs  Has Bank Checking Account\n",
    "sns.barplot(x= 'HasChckng', y= 'EstimatedSalary', data = cust_merge4, hue = 'Exited')"
   ]
  },
  {
   "cell_type": "code",
   "execution_count": 90,
   "id": "5712e33f",
   "metadata": {},
   "outputs": [
    {
     "data": {
      "text/plain": [
       "<AxesSubplot:xlabel='NumOfProducts', ylabel='EstimatedSalary'>"
      ]
     },
     "execution_count": 90,
     "metadata": {},
     "output_type": "execute_result"
    },
    {
     "data": {
      "image/png": "[encoded data removed]",
      "text/plain": [
       "<Figure size 432x288 with 1 Axes>"
      ]
     },
     "metadata": {
      "needs_background": "light"
     },
     "output_type": "display_data"
    }
   ],
   "source": [
    "# Based on Salary vs No of Products\n",
    "sns.barplot(x= 'NumOfProducts', y= 'EstimatedSalary', data = cust_merge4, hue = 'Exited')"
   ]
  }
 ],
 "metadata": {
  "kernelspec": {
   "display_name": "Python 3",
   "language": "python",
   "name": "python3"
  },
  "language_info": {
   "codemirror_mode": {
    "name": "ipython",
    "version": 3
   },
   "file_extension": ".py",
   "mimetype": "text/x-python",
   "name": "python",
   "nbconvert_exporter": "python",
   "pygments_lexer": "ipython3",
   "version": "3.8.8"
  }
 },
 "nbformat": 4,
 "nbformat_minor": 5
}
